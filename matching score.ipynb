{
 "cells": [
  {
   "cell_type": "code",
   "execution_count": 1,
   "id": "dd5bbe82",
   "metadata": {
    "id": "dd5bbe82"
   },
   "outputs": [],
   "source": [
    "#pip install matplotlib\n",
    "#pip install fuzzymatcher"
   ]
  },
  {
   "cell_type": "code",
   "execution_count": 2,
   "id": "8a8da6cf",
   "metadata": {
    "id": "8a8da6cf"
   },
   "outputs": [],
   "source": [
    "import pandas as pd"
   ]
  },
  {
   "cell_type": "markdown",
   "id": "c703722c",
   "metadata": {
    "id": "c703722c"
   },
   "source": [
    "# Explore dataset"
   ]
  },
  {
   "cell_type": "code",
   "execution_count": 3,
   "id": "5a537198",
   "metadata": {
    "id": "5a537198",
    "outputId": "af6e215a-7047-4077-8c0f-38f383f08d93"
   },
   "outputs": [
    {
     "name": "stdout",
     "output_type": "stream",
     "text": [
      "(94585, 7)\n",
      "(91791, 7)\n"
     ]
    }
   ],
   "source": [
    "df_left = pd.read_csv(\"left_dataset.csv\")\n",
    "df_right = pd.read_csv(\"right_dataset.csv\")\n",
    "\n",
    "print(df_left.shape)\n",
    "print(df_right.shape)"
   ]
  },
  {
   "cell_type": "code",
   "execution_count": 4,
   "id": "5f4e4734",
   "metadata": {
    "id": "5f4e4734",
    "outputId": "13bc6e7b-096b-44db-85f1-9111b53d9c55"
   },
   "outputs": [
    {
     "data": {
      "text/html": [
       "<div>\n",
       "<style scoped>\n",
       "    .dataframe tbody tr th:only-of-type {\n",
       "        vertical-align: middle;\n",
       "    }\n",
       "\n",
       "    .dataframe tbody tr th {\n",
       "        vertical-align: top;\n",
       "    }\n",
       "\n",
       "    .dataframe thead th {\n",
       "        text-align: right;\n",
       "    }\n",
       "</style>\n",
       "<table border=\"1\" class=\"dataframe\">\n",
       "  <thead>\n",
       "    <tr style=\"text-align: right;\">\n",
       "      <th></th>\n",
       "      <th>entity_id</th>\n",
       "      <th>name</th>\n",
       "      <th>address</th>\n",
       "      <th>city</th>\n",
       "      <th>state</th>\n",
       "      <th>postal_code</th>\n",
       "      <th>categories</th>\n",
       "    </tr>\n",
       "  </thead>\n",
       "  <tbody>\n",
       "    <tr>\n",
       "      <th>75996</th>\n",
       "      <td>75997</td>\n",
       "      <td>Holloway's Farm Supply</td>\n",
       "      <td>3036 Land O Lakes Blvd</td>\n",
       "      <td>Land O Lakes</td>\n",
       "      <td>FL</td>\n",
       "      <td>34639.0</td>\n",
       "      <td>Home &amp; Garden, Shopping</td>\n",
       "    </tr>\n",
       "    <tr>\n",
       "      <th>92571</th>\n",
       "      <td>92572</td>\n",
       "      <td>McDonald's</td>\n",
       "      <td>7822 Brookville Rd</td>\n",
       "      <td>Indianapolis</td>\n",
       "      <td>IN</td>\n",
       "      <td>46239.0</td>\n",
       "      <td>Coffee &amp; Tea, Restaurants, Food, Fast Food, Bu...</td>\n",
       "    </tr>\n",
       "    <tr>\n",
       "      <th>69676</th>\n",
       "      <td>69677</td>\n",
       "      <td>Dunkin'</td>\n",
       "      <td>6842 Whitestown Pkwy</td>\n",
       "      <td>Zionsville</td>\n",
       "      <td>IN</td>\n",
       "      <td>46077.0</td>\n",
       "      <td>Coffee &amp; Tea, Restaurants, Breakfast &amp; Brunch,...</td>\n",
       "    </tr>\n",
       "    <tr>\n",
       "      <th>29329</th>\n",
       "      <td>29330</td>\n",
       "      <td>Handrolled Cigars</td>\n",
       "      <td>4058 Tampa Rd</td>\n",
       "      <td>Oldsmar</td>\n",
       "      <td>FL</td>\n",
       "      <td>34677.0</td>\n",
       "      <td>Food, Shopping, Tobacco Shops, Beer, Wine &amp; Sp...</td>\n",
       "    </tr>\n",
       "    <tr>\n",
       "      <th>36549</th>\n",
       "      <td>36550</td>\n",
       "      <td>Guitar Center</td>\n",
       "      <td>11977 St Charles Rock Rd, Ste 100 Bldg H</td>\n",
       "      <td>Bridgeton</td>\n",
       "      <td>MO</td>\n",
       "      <td>63044.0</td>\n",
       "      <td>Musical Instruments &amp; Teachers, Local Services...</td>\n",
       "    </tr>\n",
       "    <tr>\n",
       "      <th>20402</th>\n",
       "      <td>20403</td>\n",
       "      <td>ShopRite of Hatfield</td>\n",
       "      <td>170 Forty Foot Rd</td>\n",
       "      <td>Hatfield</td>\n",
       "      <td>PA</td>\n",
       "      <td>19440.0</td>\n",
       "      <td>Food, Grocery, Delis, Bakeries, Restaurants</td>\n",
       "    </tr>\n",
       "    <tr>\n",
       "      <th>73024</th>\n",
       "      <td>73025</td>\n",
       "      <td>Women's Health Care Group</td>\n",
       "      <td>7996 Oxford Ave</td>\n",
       "      <td>Philadelphia</td>\n",
       "      <td>PA</td>\n",
       "      <td>19111.0</td>\n",
       "      <td>Doctors, Health &amp; Medical, Obstetricians &amp; Gyn...</td>\n",
       "    </tr>\n",
       "    <tr>\n",
       "      <th>34498</th>\n",
       "      <td>34499</td>\n",
       "      <td>New South China</td>\n",
       "      <td>1640 South St</td>\n",
       "      <td>Philadelphia</td>\n",
       "      <td>PA</td>\n",
       "      <td>19146.0</td>\n",
       "      <td>Restaurants, Chinese</td>\n",
       "    </tr>\n",
       "  </tbody>\n",
       "</table>\n",
       "</div>"
      ],
      "text/plain": [
       "       entity_id                       name  \\\n",
       "75996      75997     Holloway's Farm Supply   \n",
       "92571      92572                 McDonald's   \n",
       "69676      69677                    Dunkin'   \n",
       "29329      29330          Handrolled Cigars   \n",
       "36549      36550              Guitar Center   \n",
       "20402      20403       ShopRite of Hatfield   \n",
       "73024      73025  Women's Health Care Group   \n",
       "34498      34499            New South China   \n",
       "\n",
       "                                        address          city state  \\\n",
       "75996                    3036 Land O Lakes Blvd  Land O Lakes    FL   \n",
       "92571                        7822 Brookville Rd  Indianapolis    IN   \n",
       "69676                      6842 Whitestown Pkwy    Zionsville    IN   \n",
       "29329                             4058 Tampa Rd       Oldsmar    FL   \n",
       "36549  11977 St Charles Rock Rd, Ste 100 Bldg H     Bridgeton    MO   \n",
       "20402                         170 Forty Foot Rd      Hatfield    PA   \n",
       "73024                           7996 Oxford Ave  Philadelphia    PA   \n",
       "34498                             1640 South St  Philadelphia    PA   \n",
       "\n",
       "       postal_code                                         categories  \n",
       "75996      34639.0                            Home & Garden, Shopping  \n",
       "92571      46239.0  Coffee & Tea, Restaurants, Food, Fast Food, Bu...  \n",
       "69676      46077.0  Coffee & Tea, Restaurants, Breakfast & Brunch,...  \n",
       "29329      34677.0  Food, Shopping, Tobacco Shops, Beer, Wine & Sp...  \n",
       "36549      63044.0  Musical Instruments & Teachers, Local Services...  \n",
       "20402      19440.0        Food, Grocery, Delis, Bakeries, Restaurants  \n",
       "73024      19111.0  Doctors, Health & Medical, Obstetricians & Gyn...  \n",
       "34498      19146.0                               Restaurants, Chinese  "
      ]
     },
     "execution_count": 4,
     "metadata": {},
     "output_type": "execute_result"
    }
   ],
   "source": [
    "# df_left.head()\n",
    "df_left.sample(8)"
   ]
  },
  {
   "cell_type": "code",
   "execution_count": 5,
   "id": "d7f6c514",
   "metadata": {
    "id": "d7f6c514",
    "outputId": "30b322c9-e052-4d3e-c9fe-48e848ed8fff"
   },
   "outputs": [
    {
     "data": {
      "text/html": [
       "<div>\n",
       "<style scoped>\n",
       "    .dataframe tbody tr th:only-of-type {\n",
       "        vertical-align: middle;\n",
       "    }\n",
       "\n",
       "    .dataframe tbody tr th {\n",
       "        vertical-align: top;\n",
       "    }\n",
       "\n",
       "    .dataframe thead th {\n",
       "        text-align: right;\n",
       "    }\n",
       "</style>\n",
       "<table border=\"1\" class=\"dataframe\">\n",
       "  <thead>\n",
       "    <tr style=\"text-align: right;\">\n",
       "      <th></th>\n",
       "      <th>business_id</th>\n",
       "      <th>name</th>\n",
       "      <th>address</th>\n",
       "      <th>city</th>\n",
       "      <th>state</th>\n",
       "      <th>zip_code</th>\n",
       "      <th>size</th>\n",
       "    </tr>\n",
       "  </thead>\n",
       "  <tbody>\n",
       "    <tr>\n",
       "      <th>84677</th>\n",
       "      <td>84678</td>\n",
       "      <td>TS SEO LLC</td>\n",
       "      <td>2020 FIELDSTONE PARKWAY</td>\n",
       "      <td>Franklin</td>\n",
       "      <td>TN</td>\n",
       "      <td>37069-4337</td>\n",
       "      <td>8.0</td>\n",
       "    </tr>\n",
       "    <tr>\n",
       "      <th>22378</th>\n",
       "      <td>22379</td>\n",
       "      <td>ALPHA BUSINESS COMMUNICATIONS, INC.</td>\n",
       "      <td>1087 E Brandon Blvd</td>\n",
       "      <td>BRANDON</td>\n",
       "      <td>FL</td>\n",
       "      <td>33511</td>\n",
       "      <td>2.0</td>\n",
       "    </tr>\n",
       "    <tr>\n",
       "      <th>55727</th>\n",
       "      <td>55728</td>\n",
       "      <td>J R BRILLMAN INC</td>\n",
       "      <td>101 FRIENDS LN</td>\n",
       "      <td>NEWTOWN</td>\n",
       "      <td>PA</td>\n",
       "      <td>18940-1805</td>\n",
       "      <td>7.0</td>\n",
       "    </tr>\n",
       "    <tr>\n",
       "      <th>29182</th>\n",
       "      <td>29183</td>\n",
       "      <td>EVENTPRO SERVICES INC.</td>\n",
       "      <td>3905 Vincennes Rd</td>\n",
       "      <td>Indianapolis</td>\n",
       "      <td>IN</td>\n",
       "      <td>46268-3026</td>\n",
       "      <td>3.0</td>\n",
       "    </tr>\n",
       "    <tr>\n",
       "      <th>78782</th>\n",
       "      <td>78783</td>\n",
       "      <td>MEDIA ART EXPO INC</td>\n",
       "      <td>SPRINGFIELD MALL SHOP L3B SPRINGFIELD MALL SHO...</td>\n",
       "      <td>SPRINGFIELD</td>\n",
       "      <td>PA</td>\n",
       "      <td>19064</td>\n",
       "      <td>3.0</td>\n",
       "    </tr>\n",
       "    <tr>\n",
       "      <th>18492</th>\n",
       "      <td>18493</td>\n",
       "      <td>CAININE CONNECTIONS INC.</td>\n",
       "      <td>14442 Dale Mabry Highway</td>\n",
       "      <td>TAMPA</td>\n",
       "      <td>FL</td>\n",
       "      <td>33618</td>\n",
       "      <td>5.0</td>\n",
       "    </tr>\n",
       "    <tr>\n",
       "      <th>2407</th>\n",
       "      <td>2408</td>\n",
       "      <td>SALON VOLO, INC.</td>\n",
       "      <td>5848 54th Ave N</td>\n",
       "      <td>Saint Petersburg</td>\n",
       "      <td>FL</td>\n",
       "      <td>33709-1902</td>\n",
       "      <td>15.0</td>\n",
       "    </tr>\n",
       "    <tr>\n",
       "      <th>67430</th>\n",
       "      <td>67431</td>\n",
       "      <td>ROGERS LAND TRANSFER, LLC</td>\n",
       "      <td>26 E ATHENS AVE</td>\n",
       "      <td>ARDMORE</td>\n",
       "      <td>PA</td>\n",
       "      <td>19003-2140</td>\n",
       "      <td>2.0</td>\n",
       "    </tr>\n",
       "  </tbody>\n",
       "</table>\n",
       "</div>"
      ],
      "text/plain": [
       "       business_id                                 name  \\\n",
       "84677        84678                           TS SEO LLC   \n",
       "22378        22379  ALPHA BUSINESS COMMUNICATIONS, INC.   \n",
       "55727        55728                     J R BRILLMAN INC   \n",
       "29182        29183               EVENTPRO SERVICES INC.   \n",
       "78782        78783                   MEDIA ART EXPO INC   \n",
       "18492        18493             CAININE CONNECTIONS INC.   \n",
       "2407          2408                     SALON VOLO, INC.   \n",
       "67430        67431            ROGERS LAND TRANSFER, LLC   \n",
       "\n",
       "                                                 address              city  \\\n",
       "84677                            2020 FIELDSTONE PARKWAY          Franklin   \n",
       "22378                                1087 E Brandon Blvd           BRANDON   \n",
       "55727                                     101 FRIENDS LN           NEWTOWN   \n",
       "29182                                  3905 Vincennes Rd      Indianapolis   \n",
       "78782  SPRINGFIELD MALL SHOP L3B SPRINGFIELD MALL SHO...       SPRINGFIELD   \n",
       "18492                           14442 Dale Mabry Highway             TAMPA   \n",
       "2407                                     5848 54th Ave N  Saint Petersburg   \n",
       "67430                                    26 E ATHENS AVE           ARDMORE   \n",
       "\n",
       "      state    zip_code  size  \n",
       "84677    TN  37069-4337   8.0  \n",
       "22378    FL       33511   2.0  \n",
       "55727    PA  18940-1805   7.0  \n",
       "29182    IN  46268-3026   3.0  \n",
       "78782    PA       19064   3.0  \n",
       "18492    FL       33618   5.0  \n",
       "2407     FL  33709-1902  15.0  \n",
       "67430    PA  19003-2140   2.0  "
      ]
     },
     "execution_count": 5,
     "metadata": {},
     "output_type": "execute_result"
    }
   ],
   "source": [
    "# df_right.head()\n",
    "df_right.sample(8)"
   ]
  },
  {
   "cell_type": "code",
   "execution_count": 6,
   "id": "d320629c",
   "metadata": {
    "id": "d320629c",
    "outputId": "6448f589-3217-45dd-fc05-7b1325dbed7f",
    "scrolled": true
   },
   "outputs": [
    {
     "name": "stdout",
     "output_type": "stream",
     "text": [
      "df_left columns: ['entity_id', 'name', 'address', 'city', 'state', 'postal_code', 'categories']\n",
      "df_right columns: ['business_id', 'name', 'address', 'city', 'state', 'zip_code', 'size']\n"
     ]
    }
   ],
   "source": [
    "# col name\n",
    "print(f\"df_left columns: {list(df_left.columns)}\")\n",
    "print(f\"df_right columns: {list(df_right.columns)}\")"
   ]
  },
  {
   "cell_type": "code",
   "execution_count": 7,
   "id": "535800e6",
   "metadata": {
    "id": "535800e6",
    "outputId": "ac6d9928-7079-4451-a449-0b43e4edf56a"
   },
   "outputs": [
    {
     "name": "stdout",
     "output_type": "stream",
     "text": [
      "0\n",
      "0\n"
     ]
    }
   ],
   "source": [
    "# duplicate company id (the results show no duplicate id)\n",
    "print(sum(df_left['entity_id'].duplicated()))\n",
    "print(sum(df_right['business_id'].duplicated()))"
   ]
  },
  {
   "cell_type": "markdown",
   "id": "762d4bc9",
   "metadata": {
    "id": "762d4bc9"
   },
   "source": [
    "# Data Cleaning\n"
   ]
  },
  {
   "cell_type": "markdown",
   "id": "ea57db61",
   "metadata": {
    "id": "ea57db61"
   },
   "source": [
    "## zip code"
   ]
  },
  {
   "cell_type": "markdown",
   "id": "8bb6c0bf",
   "metadata": {
    "id": "8bb6c0bf"
   },
   "source": [
    "### df_left"
   ]
  },
  {
   "cell_type": "code",
   "execution_count": 8,
   "id": "e374e60c",
   "metadata": {
    "id": "e374e60c",
    "outputId": "1c845651-47c7-4807-a879-3cf6b7577016"
   },
   "outputs": [
    {
     "data": {
      "text/plain": [
       "dtype('float64')"
      ]
     },
     "execution_count": 8,
     "metadata": {},
     "output_type": "execute_result"
    }
   ],
   "source": [
    "df_left[\"postal_code\"].dtype"
   ]
  },
  {
   "cell_type": "code",
   "execution_count": 9,
   "id": "25a14c23",
   "metadata": {
    "id": "25a14c23"
   },
   "outputs": [],
   "source": [
    "# replace na with 0 in \"postal_code\"\n",
    "df_left[\"postal_code\"] = df_left[\"postal_code\"].fillna(0)"
   ]
  },
  {
   "cell_type": "code",
   "execution_count": 10,
   "id": "05c2a3b3",
   "metadata": {
    "id": "05c2a3b3",
    "outputId": "0f93237e-4914-42fc-e10c-fdd6fe07ead8"
   },
   "outputs": [
    {
     "data": {
      "text/plain": [
       "5    94543\n",
       "1       37\n",
       "4        4\n",
       "6        1\n",
       "Name: zip_code_str, dtype: int64"
      ]
     },
     "execution_count": 10,
     "metadata": {},
     "output_type": "execute_result"
    }
   ],
   "source": [
    "# convert df_left[\"postal_code\"] to string due to leading and trailing 0s\n",
    "df_left[\"zip_code_str\"] = df_left[\"postal_code\"].astype(int).astype(str)\n",
    "\n",
    "# count the length of zip codes\n",
    "df_left[\"zip_code_str\"].map(len).value_counts()"
   ]
  },
  {
   "cell_type": "code",
   "execution_count": 11,
   "id": "50e9b8e4",
   "metadata": {
    "id": "50e9b8e4",
    "outputId": "7d2cd536-68e6-46cf-9a9f-49b51aec0583"
   },
   "outputs": [
    {
     "data": {
      "text/html": [
       "<div>\n",
       "<style scoped>\n",
       "    .dataframe tbody tr th:only-of-type {\n",
       "        vertical-align: middle;\n",
       "    }\n",
       "\n",
       "    .dataframe tbody tr th {\n",
       "        vertical-align: top;\n",
       "    }\n",
       "\n",
       "    .dataframe thead th {\n",
       "        text-align: right;\n",
       "    }\n",
       "</style>\n",
       "<table border=\"1\" class=\"dataframe\">\n",
       "  <thead>\n",
       "    <tr style=\"text-align: right;\">\n",
       "      <th></th>\n",
       "      <th>entity_id</th>\n",
       "      <th>name</th>\n",
       "      <th>address</th>\n",
       "      <th>city</th>\n",
       "      <th>state</th>\n",
       "      <th>postal_code</th>\n",
       "      <th>categories</th>\n",
       "      <th>zip_code_str</th>\n",
       "    </tr>\n",
       "  </thead>\n",
       "  <tbody>\n",
       "    <tr>\n",
       "      <th>65929</th>\n",
       "      <td>65930</td>\n",
       "      <td>Apna Kabab House</td>\n",
       "      <td>20323 Bruce B Downs Blvd</td>\n",
       "      <td>Tampa</td>\n",
       "      <td>FL</td>\n",
       "      <td>336140.0</td>\n",
       "      <td>Restaurants, Indian, Halal, Pakistani</td>\n",
       "      <td>336140</td>\n",
       "    </tr>\n",
       "  </tbody>\n",
       "</table>\n",
       "</div>"
      ],
      "text/plain": [
       "       entity_id              name                   address   city state  \\\n",
       "65929      65930  Apna Kabab House  20323 Bruce B Downs Blvd  Tampa    FL   \n",
       "\n",
       "       postal_code                             categories zip_code_str  \n",
       "65929     336140.0  Restaurants, Indian, Halal, Pakistani       336140  "
      ]
     },
     "execution_count": 11,
     "metadata": {},
     "output_type": "execute_result"
    }
   ],
   "source": [
    "# examine row with zip code length of 6\n",
    "df_left[df_left[\"zip_code_str\"].map(len) == 6]"
   ]
  },
  {
   "cell_type": "code",
   "execution_count": 12,
   "id": "7d5041d1",
   "metadata": {
    "id": "7d5041d1"
   },
   "outputs": [],
   "source": [
    "# change the above zip code to 33614 after varification based on city and state\n",
    "df_left['zip_code_str'] = df_left['zip_code_str'].replace('336140', '33614')"
   ]
  },
  {
   "cell_type": "code",
   "execution_count": 13,
   "id": "1182cc8f",
   "metadata": {
    "id": "1182cc8f"
   },
   "outputs": [],
   "source": [
    "# fill the leading 0 in zip code\n",
    "df_left[\"zip_code_str\"] = df_left[\"zip_code_str\"].str.zfill(5)"
   ]
  },
  {
   "cell_type": "code",
   "execution_count": 14,
   "id": "4770d568",
   "metadata": {
    "id": "4770d568",
    "outputId": "031f2ce2-9e45-489b-8bc1-0d376a6e306a"
   },
   "outputs": [
    {
     "data": {
      "text/plain": [
       "5    94585\n",
       "Name: zip_code_str, dtype: int64"
      ]
     },
     "execution_count": 14,
     "metadata": {},
     "output_type": "execute_result"
    }
   ],
   "source": [
    "# count the length of zip codes again, now all \"zip_code_string\" are 5 digit strings\n",
    "df_left[\"zip_code_str\"].map(len).value_counts()"
   ]
  },
  {
   "cell_type": "markdown",
   "id": "7a617dc5",
   "metadata": {
    "id": "7a617dc5"
   },
   "source": [
    "### df_right"
   ]
  },
  {
   "cell_type": "code",
   "execution_count": 15,
   "id": "2d2e21df",
   "metadata": {
    "id": "2d2e21df",
    "outputId": "cd0548d9-e5fc-4614-944d-6d9c8e82e000"
   },
   "outputs": [
    {
     "data": {
      "text/plain": [
       "dtype('O')"
      ]
     },
     "execution_count": 15,
     "metadata": {},
     "output_type": "execute_result"
    }
   ],
   "source": [
    "df_right[\"zip_code\"].dtype"
   ]
  },
  {
   "cell_type": "code",
   "execution_count": 16,
   "id": "3844bdba",
   "metadata": {
    "id": "3844bdba",
    "outputId": "81fdf00a-834b-449b-82d3-664f231d2d83"
   },
   "outputs": [
    {
     "data": {
      "text/plain": [
       "10    61572\n",
       "5     30209\n",
       "7         9\n",
       "9         1\n",
       "Name: zip_code, dtype: int64"
      ]
     },
     "execution_count": 16,
     "metadata": {},
     "output_type": "execute_result"
    }
   ],
   "source": [
    "df_right[\"zip_code\"].map(len).value_counts()"
   ]
  },
  {
   "cell_type": "code",
   "execution_count": 17,
   "id": "399d8d6e",
   "metadata": {
    "id": "399d8d6e",
    "outputId": "030e6d1c-3006-4cc5-c67e-1ab53ed7b7c3"
   },
   "outputs": [
    {
     "data": {
      "text/html": [
       "<div>\n",
       "<style scoped>\n",
       "    .dataframe tbody tr th:only-of-type {\n",
       "        vertical-align: middle;\n",
       "    }\n",
       "\n",
       "    .dataframe tbody tr th {\n",
       "        vertical-align: top;\n",
       "    }\n",
       "\n",
       "    .dataframe thead th {\n",
       "        text-align: right;\n",
       "    }\n",
       "</style>\n",
       "<table border=\"1\" class=\"dataframe\">\n",
       "  <thead>\n",
       "    <tr style=\"text-align: right;\">\n",
       "      <th></th>\n",
       "      <th>business_id</th>\n",
       "      <th>name</th>\n",
       "      <th>address</th>\n",
       "      <th>city</th>\n",
       "      <th>state</th>\n",
       "      <th>zip_code</th>\n",
       "      <th>size</th>\n",
       "    </tr>\n",
       "  </thead>\n",
       "  <tbody>\n",
       "    <tr>\n",
       "      <th>6804</th>\n",
       "      <td>6805</td>\n",
       "      <td>SUNSHINE AGENTS CORPORATION</td>\n",
       "      <td>4114 Amber Lane</td>\n",
       "      <td>Palm Harbor</td>\n",
       "      <td>FL</td>\n",
       "      <td>34685--</td>\n",
       "      <td>4.0</td>\n",
       "    </tr>\n",
       "    <tr>\n",
       "      <th>16141</th>\n",
       "      <td>16142</td>\n",
       "      <td>RICHARD W OSBORNE PA</td>\n",
       "      <td>320 West Kennedy Boulevard</td>\n",
       "      <td>Tampa</td>\n",
       "      <td>FL</td>\n",
       "      <td>33606--</td>\n",
       "      <td>2.0</td>\n",
       "    </tr>\n",
       "    <tr>\n",
       "      <th>22566</th>\n",
       "      <td>22567</td>\n",
       "      <td>THE SHELL STORE LLC</td>\n",
       "      <td>8211 Ulmerton Road</td>\n",
       "      <td>Largo</td>\n",
       "      <td>FL</td>\n",
       "      <td>33771--</td>\n",
       "      <td>2.0</td>\n",
       "    </tr>\n",
       "    <tr>\n",
       "      <th>33369</th>\n",
       "      <td>33370</td>\n",
       "      <td>FIFTH AVE MANAGEMENT INC</td>\n",
       "      <td>2301 North Hawthorne Lane</td>\n",
       "      <td>Indianapolis</td>\n",
       "      <td>IN</td>\n",
       "      <td>46218--</td>\n",
       "      <td>4.0</td>\n",
       "    </tr>\n",
       "    <tr>\n",
       "      <th>47368</th>\n",
       "      <td>47369</td>\n",
       "      <td>LOOKS BY LISA</td>\n",
       "      <td>3010 Locust Street</td>\n",
       "      <td>St. Louis</td>\n",
       "      <td>MO</td>\n",
       "      <td>63103--</td>\n",
       "      <td>25.0</td>\n",
       "    </tr>\n",
       "    <tr>\n",
       "      <th>48579</th>\n",
       "      <td>48580</td>\n",
       "      <td>CRUZ'S MAGICAL NURSERY</td>\n",
       "      <td>1621 Rosado Drive</td>\n",
       "      <td>St. Louis</td>\n",
       "      <td>MO</td>\n",
       "      <td>63138--</td>\n",
       "      <td>5.0</td>\n",
       "    </tr>\n",
       "    <tr>\n",
       "      <th>69641</th>\n",
       "      <td>69642</td>\n",
       "      <td>SUPER FENCE COMPANY, LLC</td>\n",
       "      <td>2717 Haverford Road</td>\n",
       "      <td>Ardmore</td>\n",
       "      <td>PA</td>\n",
       "      <td>19003--</td>\n",
       "      <td>6.0</td>\n",
       "    </tr>\n",
       "    <tr>\n",
       "      <th>76398</th>\n",
       "      <td>76399</td>\n",
       "      <td>ST JOHNS BAPTIST CHURCH</td>\n",
       "      <td>1232 Tasker Ave.</td>\n",
       "      <td>Philadelphia</td>\n",
       "      <td>PA</td>\n",
       "      <td>19148--</td>\n",
       "      <td>4.0</td>\n",
       "    </tr>\n",
       "    <tr>\n",
       "      <th>88756</th>\n",
       "      <td>88757</td>\n",
       "      <td>GALLATIN MARKET , MADISON BP</td>\n",
       "      <td>3237 Gallatin Pike</td>\n",
       "      <td>Nashville</td>\n",
       "      <td>TN</td>\n",
       "      <td>37216--</td>\n",
       "      <td>4.0</td>\n",
       "    </tr>\n",
       "  </tbody>\n",
       "</table>\n",
       "</div>"
      ],
      "text/plain": [
       "       business_id                          name                     address  \\\n",
       "6804          6805   SUNSHINE AGENTS CORPORATION             4114 Amber Lane   \n",
       "16141        16142          RICHARD W OSBORNE PA  320 West Kennedy Boulevard   \n",
       "22566        22567           THE SHELL STORE LLC          8211 Ulmerton Road   \n",
       "33369        33370      FIFTH AVE MANAGEMENT INC   2301 North Hawthorne Lane   \n",
       "47368        47369                 LOOKS BY LISA          3010 Locust Street   \n",
       "48579        48580        CRUZ'S MAGICAL NURSERY           1621 Rosado Drive   \n",
       "69641        69642      SUPER FENCE COMPANY, LLC         2717 Haverford Road   \n",
       "76398        76399       ST JOHNS BAPTIST CHURCH            1232 Tasker Ave.   \n",
       "88756        88757  GALLATIN MARKET , MADISON BP          3237 Gallatin Pike   \n",
       "\n",
       "               city state zip_code  size  \n",
       "6804    Palm Harbor    FL  34685--   4.0  \n",
       "16141         Tampa    FL  33606--   2.0  \n",
       "22566         Largo    FL  33771--   2.0  \n",
       "33369  Indianapolis    IN  46218--   4.0  \n",
       "47368     St. Louis    MO  63103--  25.0  \n",
       "48579     St. Louis    MO  63138--   5.0  \n",
       "69641       Ardmore    PA  19003--   6.0  \n",
       "76398  Philadelphia    PA  19148--   4.0  \n",
       "88756     Nashville    TN  37216--   4.0  "
      ]
     },
     "execution_count": 17,
     "metadata": {},
     "output_type": "execute_result"
    }
   ],
   "source": [
    "# examine row with zip code length of 7\n",
    "df_right[df_right[\"zip_code\"].map(len) == 7]"
   ]
  },
  {
   "cell_type": "code",
   "execution_count": 18,
   "id": "f6019dbc",
   "metadata": {
    "id": "f6019dbc"
   },
   "outputs": [],
   "source": [
    "# remove trailing -- in zip_code\n",
    "df_right['zip_code'] = df_right['zip_code'].apply(lambda x: x.replace('-', '') if len(x)==7 else x)"
   ]
  },
  {
   "cell_type": "code",
   "execution_count": 19,
   "id": "276359dd",
   "metadata": {
    "id": "276359dd",
    "outputId": "17e7848e-9ffd-421b-bc16-d1ca609fe029"
   },
   "outputs": [
    {
     "data": {
      "text/html": [
       "<div>\n",
       "<style scoped>\n",
       "    .dataframe tbody tr th:only-of-type {\n",
       "        vertical-align: middle;\n",
       "    }\n",
       "\n",
       "    .dataframe tbody tr th {\n",
       "        vertical-align: top;\n",
       "    }\n",
       "\n",
       "    .dataframe thead th {\n",
       "        text-align: right;\n",
       "    }\n",
       "</style>\n",
       "<table border=\"1\" class=\"dataframe\">\n",
       "  <thead>\n",
       "    <tr style=\"text-align: right;\">\n",
       "      <th></th>\n",
       "      <th>business_id</th>\n",
       "      <th>name</th>\n",
       "      <th>address</th>\n",
       "      <th>city</th>\n",
       "      <th>state</th>\n",
       "      <th>zip_code</th>\n",
       "      <th>size</th>\n",
       "    </tr>\n",
       "  </thead>\n",
       "  <tbody>\n",
       "    <tr>\n",
       "      <th>20216</th>\n",
       "      <td>20217</td>\n",
       "      <td>LAW FIRM OF SONYA C COLON</td>\n",
       "      <td>1311 W Fletcher Ave Georgetown Office Park</td>\n",
       "      <td>Tampa</td>\n",
       "      <td>FL</td>\n",
       "      <td>33612-3310</td>\n",
       "      <td>2.0</td>\n",
       "    </tr>\n",
       "    <tr>\n",
       "      <th>35024</th>\n",
       "      <td>35025</td>\n",
       "      <td>JOSH FIELDS AGENCY, INC</td>\n",
       "      <td>5645 W 79TH ST</td>\n",
       "      <td>INDIANAPOLIS</td>\n",
       "      <td>IN</td>\n",
       "      <td>46278-1711</td>\n",
       "      <td>4.0</td>\n",
       "    </tr>\n",
       "    <tr>\n",
       "      <th>65093</th>\n",
       "      <td>65094</td>\n",
       "      <td>AUM SHREEJI LLC</td>\n",
       "      <td>842 RED LION RD</td>\n",
       "      <td>PHILADELPHIA</td>\n",
       "      <td>PA</td>\n",
       "      <td>19115-1475</td>\n",
       "      <td>18.0</td>\n",
       "    </tr>\n",
       "  </tbody>\n",
       "</table>\n",
       "</div>"
      ],
      "text/plain": [
       "       business_id                       name  \\\n",
       "20216        20217  LAW FIRM OF SONYA C COLON   \n",
       "35024        35025    JOSH FIELDS AGENCY, INC   \n",
       "65093        65094            AUM SHREEJI LLC   \n",
       "\n",
       "                                          address          city state  \\\n",
       "20216  1311 W Fletcher Ave Georgetown Office Park         Tampa    FL   \n",
       "35024                              5645 W 79TH ST  INDIANAPOLIS    IN   \n",
       "65093                             842 RED LION RD  PHILADELPHIA    PA   \n",
       "\n",
       "         zip_code  size  \n",
       "20216  33612-3310   2.0  \n",
       "35024  46278-1711   4.0  \n",
       "65093  19115-1475  18.0  "
      ]
     },
     "execution_count": 19,
     "metadata": {},
     "output_type": "execute_result"
    }
   ],
   "source": [
    "# length of 10 are due to extended ZIP+4 code\n",
    "df_right[df_right[\"zip_code\"].map(len) == 10].sample(3)"
   ]
  },
  {
   "cell_type": "code",
   "execution_count": 20,
   "id": "9ad41384",
   "metadata": {
    "id": "9ad41384",
    "outputId": "293648ab-c4f9-44d3-fd44-2d5a36557555"
   },
   "outputs": [
    {
     "data": {
      "text/html": [
       "<div>\n",
       "<style scoped>\n",
       "    .dataframe tbody tr th:only-of-type {\n",
       "        vertical-align: middle;\n",
       "    }\n",
       "\n",
       "    .dataframe tbody tr th {\n",
       "        vertical-align: top;\n",
       "    }\n",
       "\n",
       "    .dataframe thead th {\n",
       "        text-align: right;\n",
       "    }\n",
       "</style>\n",
       "<table border=\"1\" class=\"dataframe\">\n",
       "  <thead>\n",
       "    <tr style=\"text-align: right;\">\n",
       "      <th></th>\n",
       "      <th>business_id</th>\n",
       "      <th>name</th>\n",
       "      <th>address</th>\n",
       "      <th>city</th>\n",
       "      <th>state</th>\n",
       "      <th>zip_code</th>\n",
       "      <th>size</th>\n",
       "    </tr>\n",
       "  </thead>\n",
       "  <tbody>\n",
       "    <tr>\n",
       "      <th>21047</th>\n",
       "      <td>21048</td>\n",
       "      <td>SUNCOAST BAPTIST</td>\n",
       "      <td>6559 126th Avenue N</td>\n",
       "      <td>Largo</td>\n",
       "      <td>FL</td>\n",
       "      <td>33762-525</td>\n",
       "      <td>4.0</td>\n",
       "    </tr>\n",
       "  </tbody>\n",
       "</table>\n",
       "</div>"
      ],
      "text/plain": [
       "       business_id              name              address   city state  \\\n",
       "21047        21048  SUNCOAST BAPTIST  6559 126th Avenue N  Largo    FL   \n",
       "\n",
       "        zip_code  size  \n",
       "21047  33762-525   4.0  "
      ]
     },
     "execution_count": 20,
     "metadata": {},
     "output_type": "execute_result"
    }
   ],
   "source": [
    "# examine row with zip code length of 9 (maybe due to data entry error)\n",
    "df_right[df_right[\"zip_code\"].map(len) == 9]"
   ]
  },
  {
   "cell_type": "code",
   "execution_count": 21,
   "id": "7695cf78",
   "metadata": {
    "id": "7695cf78"
   },
   "outputs": [],
   "source": [
    "# keep only the first five digit of 9/10-digit zip_code because df_left only contains 5 digits\n",
    "# so it's no meaning to keep the extended digits\n",
    "df_right['zip_code'] = df_right['zip_code'].apply(lambda x: x[:5] if len(x) in [9, 10] else x)"
   ]
  },
  {
   "cell_type": "code",
   "execution_count": 22,
   "id": "601fafe8",
   "metadata": {
    "id": "601fafe8",
    "outputId": "f7a08213-8593-42e0-c24d-6735f446983e"
   },
   "outputs": [
    {
     "data": {
      "text/plain": [
       "5    91791\n",
       "Name: zip_code, dtype: int64"
      ]
     },
     "execution_count": 22,
     "metadata": {},
     "output_type": "execute_result"
    }
   ],
   "source": [
    "# the zip_code column is clean now\n",
    "df_right[\"zip_code\"].map(len).value_counts()"
   ]
  },
  {
   "cell_type": "code",
   "execution_count": 23,
   "id": "51a59b6f",
   "metadata": {
    "id": "51a59b6f"
   },
   "outputs": [],
   "source": [
    "# Convert all strings to lower case\n",
    "df_left = df_left.applymap(lambda s:s.lower() if type(s) == str else s)\n",
    "df_right = df_right.applymap(lambda s:s.lower() if type(s) == str else s)"
   ]
  },
  {
   "cell_type": "code",
   "execution_count": 24,
   "id": "cf2fe37e",
   "metadata": {
    "id": "cf2fe37e"
   },
   "outputs": [],
   "source": [
    "# Merge address, city, state into a single column\n",
    "df_left['address_combined'] = df_left.apply(lambda row: ' '.join(row[['address', 'city', 'state']].astype(str)), axis=1)\n",
    "df_right['address_combined'] = df_right.apply(lambda row: ' '.join(row[['address', 'city', 'state']].astype(str)), axis=1)"
   ]
  },
  {
   "cell_type": "code",
   "execution_count": 25,
   "id": "9a479e78",
   "metadata": {
    "id": "9a479e78"
   },
   "outputs": [],
   "source": [
    "df_left.drop(['postal_code','categories'], axis=1, inplace=True)\n",
    "df_right.drop(['size'], axis=1, inplace=True)"
   ]
  },
  {
   "cell_type": "code",
   "execution_count": 26,
   "id": "80ddfe89",
   "metadata": {
    "id": "80ddfe89",
    "outputId": "cc27cc4d-00c8-4167-e18c-1e40f9ed1392"
   },
   "outputs": [
    {
     "data": {
      "text/html": [
       "<div>\n",
       "<style scoped>\n",
       "    .dataframe tbody tr th:only-of-type {\n",
       "        vertical-align: middle;\n",
       "    }\n",
       "\n",
       "    .dataframe tbody tr th {\n",
       "        vertical-align: top;\n",
       "    }\n",
       "\n",
       "    .dataframe thead th {\n",
       "        text-align: right;\n",
       "    }\n",
       "</style>\n",
       "<table border=\"1\" class=\"dataframe\">\n",
       "  <thead>\n",
       "    <tr style=\"text-align: right;\">\n",
       "      <th></th>\n",
       "      <th>entity_id</th>\n",
       "      <th>name</th>\n",
       "      <th>address</th>\n",
       "      <th>city</th>\n",
       "      <th>state</th>\n",
       "      <th>zip_code_str</th>\n",
       "      <th>address_combined</th>\n",
       "    </tr>\n",
       "  </thead>\n",
       "  <tbody>\n",
       "    <tr>\n",
       "      <th>0</th>\n",
       "      <td>1</td>\n",
       "      <td>the ups store</td>\n",
       "      <td>87 grasso plaza shopping center</td>\n",
       "      <td>affton</td>\n",
       "      <td>mo</td>\n",
       "      <td>63123</td>\n",
       "      <td>87 grasso plaza shopping center affton mo</td>\n",
       "    </tr>\n",
       "    <tr>\n",
       "      <th>1</th>\n",
       "      <td>2</td>\n",
       "      <td>st honore pastries</td>\n",
       "      <td>935 race st</td>\n",
       "      <td>philadelphia</td>\n",
       "      <td>pa</td>\n",
       "      <td>19107</td>\n",
       "      <td>935 race st philadelphia pa</td>\n",
       "    </tr>\n",
       "    <tr>\n",
       "      <th>2</th>\n",
       "      <td>3</td>\n",
       "      <td>perkiomen valley brewery</td>\n",
       "      <td>101 walnut st</td>\n",
       "      <td>green lane</td>\n",
       "      <td>pa</td>\n",
       "      <td>18054</td>\n",
       "      <td>101 walnut st green lane pa</td>\n",
       "    </tr>\n",
       "    <tr>\n",
       "      <th>3</th>\n",
       "      <td>4</td>\n",
       "      <td>sonic drive-in</td>\n",
       "      <td>615 s main st</td>\n",
       "      <td>ashland city</td>\n",
       "      <td>tn</td>\n",
       "      <td>37015</td>\n",
       "      <td>615 s main st ashland city tn</td>\n",
       "    </tr>\n",
       "    <tr>\n",
       "      <th>4</th>\n",
       "      <td>5</td>\n",
       "      <td>famous footwear</td>\n",
       "      <td>8522 eager road, dierbergs brentwood point</td>\n",
       "      <td>brentwood</td>\n",
       "      <td>mo</td>\n",
       "      <td>63144</td>\n",
       "      <td>8522 eager road, dierbergs brentwood point bre...</td>\n",
       "    </tr>\n",
       "  </tbody>\n",
       "</table>\n",
       "</div>"
      ],
      "text/plain": [
       "   entity_id                      name  \\\n",
       "0          1             the ups store   \n",
       "1          2        st honore pastries   \n",
       "2          3  perkiomen valley brewery   \n",
       "3          4            sonic drive-in   \n",
       "4          5           famous footwear   \n",
       "\n",
       "                                      address          city state  \\\n",
       "0             87 grasso plaza shopping center        affton    mo   \n",
       "1                                 935 race st  philadelphia    pa   \n",
       "2                               101 walnut st    green lane    pa   \n",
       "3                               615 s main st  ashland city    tn   \n",
       "4  8522 eager road, dierbergs brentwood point     brentwood    mo   \n",
       "\n",
       "  zip_code_str                                   address_combined  \n",
       "0        63123          87 grasso plaza shopping center affton mo  \n",
       "1        19107                        935 race st philadelphia pa  \n",
       "2        18054                        101 walnut st green lane pa  \n",
       "3        37015                      615 s main st ashland city tn  \n",
       "4        63144  8522 eager road, dierbergs brentwood point bre...  "
      ]
     },
     "execution_count": 26,
     "metadata": {},
     "output_type": "execute_result"
    }
   ],
   "source": [
    "df_left.head()"
   ]
  },
  {
   "cell_type": "code",
   "execution_count": 27,
   "id": "3a0df20a",
   "metadata": {
    "id": "3a0df20a",
    "outputId": "d87a8f96-d23c-4bf1-f100-a39d748dd882"
   },
   "outputs": [
    {
     "data": {
      "text/html": [
       "<div>\n",
       "<style scoped>\n",
       "    .dataframe tbody tr th:only-of-type {\n",
       "        vertical-align: middle;\n",
       "    }\n",
       "\n",
       "    .dataframe tbody tr th {\n",
       "        vertical-align: top;\n",
       "    }\n",
       "\n",
       "    .dataframe thead th {\n",
       "        text-align: right;\n",
       "    }\n",
       "</style>\n",
       "<table border=\"1\" class=\"dataframe\">\n",
       "  <thead>\n",
       "    <tr style=\"text-align: right;\">\n",
       "      <th></th>\n",
       "      <th>business_id</th>\n",
       "      <th>name</th>\n",
       "      <th>address</th>\n",
       "      <th>city</th>\n",
       "      <th>state</th>\n",
       "      <th>zip_code</th>\n",
       "      <th>address_combined</th>\n",
       "    </tr>\n",
       "  </thead>\n",
       "  <tbody>\n",
       "    <tr>\n",
       "      <th>0</th>\n",
       "      <td>1</td>\n",
       "      <td>sourini painting inc.</td>\n",
       "      <td>12800 44th st n</td>\n",
       "      <td>clearwater</td>\n",
       "      <td>fl</td>\n",
       "      <td>33762</td>\n",
       "      <td>12800 44th st n clearwater fl</td>\n",
       "    </tr>\n",
       "    <tr>\n",
       "      <th>1</th>\n",
       "      <td>2</td>\n",
       "      <td>wolff dolla bill llc</td>\n",
       "      <td>1905 e 19th ave</td>\n",
       "      <td>tampa</td>\n",
       "      <td>fl</td>\n",
       "      <td>33605</td>\n",
       "      <td>1905 e 19th ave tampa fl</td>\n",
       "    </tr>\n",
       "    <tr>\n",
       "      <th>2</th>\n",
       "      <td>3</td>\n",
       "      <td>comprehensive surgery center, llc</td>\n",
       "      <td>1988 gulf to bay blvd, ste 1</td>\n",
       "      <td>clearwater</td>\n",
       "      <td>fl</td>\n",
       "      <td>33765</td>\n",
       "      <td>1988 gulf to bay blvd, ste 1 clearwater fl</td>\n",
       "    </tr>\n",
       "    <tr>\n",
       "      <th>3</th>\n",
       "      <td>4</td>\n",
       "      <td>frank &amp; adam apparel llc</td>\n",
       "      <td>13640 wright cir</td>\n",
       "      <td>tampa</td>\n",
       "      <td>fl</td>\n",
       "      <td>33626</td>\n",
       "      <td>13640 wright cir tampa fl</td>\n",
       "    </tr>\n",
       "    <tr>\n",
       "      <th>4</th>\n",
       "      <td>5</td>\n",
       "      <td>moreno plus transport inc</td>\n",
       "      <td>8608 huron court unite 58</td>\n",
       "      <td>tampa</td>\n",
       "      <td>fl</td>\n",
       "      <td>33614</td>\n",
       "      <td>8608 huron court unite 58 tampa fl</td>\n",
       "    </tr>\n",
       "  </tbody>\n",
       "</table>\n",
       "</div>"
      ],
      "text/plain": [
       "   business_id                               name  \\\n",
       "0            1              sourini painting inc.   \n",
       "1            2               wolff dolla bill llc   \n",
       "2            3  comprehensive surgery center, llc   \n",
       "3            4           frank & adam apparel llc   \n",
       "4            5          moreno plus transport inc   \n",
       "\n",
       "                        address        city state zip_code  \\\n",
       "0               12800 44th st n  clearwater    fl    33762   \n",
       "1               1905 e 19th ave       tampa    fl    33605   \n",
       "2  1988 gulf to bay blvd, ste 1  clearwater    fl    33765   \n",
       "3              13640 wright cir       tampa    fl    33626   \n",
       "4     8608 huron court unite 58       tampa    fl    33614   \n",
       "\n",
       "                             address_combined  \n",
       "0               12800 44th st n clearwater fl  \n",
       "1                    1905 e 19th ave tampa fl  \n",
       "2  1988 gulf to bay blvd, ste 1 clearwater fl  \n",
       "3                   13640 wright cir tampa fl  \n",
       "4          8608 huron court unite 58 tampa fl  "
      ]
     },
     "execution_count": 27,
     "metadata": {},
     "output_type": "execute_result"
    }
   ],
   "source": [
    "df_right.head()"
   ]
  },
  {
   "cell_type": "markdown",
   "id": "3f5da6c5",
   "metadata": {
    "id": "3f5da6c5"
   },
   "source": [
    "## Remove punctuations in name and address_combined"
   ]
  },
  {
   "cell_type": "code",
   "execution_count": 28,
   "id": "f3cbaea5",
   "metadata": {
    "id": "f3cbaea5"
   },
   "outputs": [],
   "source": [
    "import string\n",
    "\n",
    "# Define a lambda function to remove punctuation from a string\n",
    "remove_punct = lambda x: x.translate(str.maketrans('', '', string.punctuation))\n",
    "\n",
    "# Remove punctuation from the \"name\" and \"address_combined\" columns in both datasets\n",
    "df_left[\"name\"] = df_left[\"name\"].apply(remove_punct)\n",
    "df_left[\"address_combined\"] = df_left[\"address_combined\"].apply(remove_punct)\n",
    "\n",
    "df_right[\"name\"] = df_right[\"name\"].apply(remove_punct)\n",
    "df_right[\"address_combined\"] = df_right[\"address_combined\"].apply(remove_punct)"
   ]
  },
  {
   "cell_type": "code",
   "execution_count": 29,
   "id": "2da32773",
   "metadata": {
    "id": "2da32773",
    "outputId": "081df137-d20c-49d6-ed7f-bb8290b462dc"
   },
   "outputs": [
    {
     "data": {
      "text/html": [
       "<div>\n",
       "<style scoped>\n",
       "    .dataframe tbody tr th:only-of-type {\n",
       "        vertical-align: middle;\n",
       "    }\n",
       "\n",
       "    .dataframe tbody tr th {\n",
       "        vertical-align: top;\n",
       "    }\n",
       "\n",
       "    .dataframe thead th {\n",
       "        text-align: right;\n",
       "    }\n",
       "</style>\n",
       "<table border=\"1\" class=\"dataframe\">\n",
       "  <thead>\n",
       "    <tr style=\"text-align: right;\">\n",
       "      <th></th>\n",
       "      <th>entity_id</th>\n",
       "      <th>name</th>\n",
       "      <th>address</th>\n",
       "      <th>city</th>\n",
       "      <th>state</th>\n",
       "      <th>zip_code_str</th>\n",
       "      <th>address_combined</th>\n",
       "    </tr>\n",
       "  </thead>\n",
       "  <tbody>\n",
       "    <tr>\n",
       "      <th>0</th>\n",
       "      <td>1</td>\n",
       "      <td>the ups store</td>\n",
       "      <td>87 grasso plaza shopping center</td>\n",
       "      <td>affton</td>\n",
       "      <td>mo</td>\n",
       "      <td>63123</td>\n",
       "      <td>87 grasso plaza shopping center affton mo</td>\n",
       "    </tr>\n",
       "    <tr>\n",
       "      <th>1</th>\n",
       "      <td>2</td>\n",
       "      <td>st honore pastries</td>\n",
       "      <td>935 race st</td>\n",
       "      <td>philadelphia</td>\n",
       "      <td>pa</td>\n",
       "      <td>19107</td>\n",
       "      <td>935 race st philadelphia pa</td>\n",
       "    </tr>\n",
       "    <tr>\n",
       "      <th>2</th>\n",
       "      <td>3</td>\n",
       "      <td>perkiomen valley brewery</td>\n",
       "      <td>101 walnut st</td>\n",
       "      <td>green lane</td>\n",
       "      <td>pa</td>\n",
       "      <td>18054</td>\n",
       "      <td>101 walnut st green lane pa</td>\n",
       "    </tr>\n",
       "    <tr>\n",
       "      <th>3</th>\n",
       "      <td>4</td>\n",
       "      <td>sonic drivein</td>\n",
       "      <td>615 s main st</td>\n",
       "      <td>ashland city</td>\n",
       "      <td>tn</td>\n",
       "      <td>37015</td>\n",
       "      <td>615 s main st ashland city tn</td>\n",
       "    </tr>\n",
       "    <tr>\n",
       "      <th>4</th>\n",
       "      <td>5</td>\n",
       "      <td>famous footwear</td>\n",
       "      <td>8522 eager road, dierbergs brentwood point</td>\n",
       "      <td>brentwood</td>\n",
       "      <td>mo</td>\n",
       "      <td>63144</td>\n",
       "      <td>8522 eager road dierbergs brentwood point bren...</td>\n",
       "    </tr>\n",
       "  </tbody>\n",
       "</table>\n",
       "</div>"
      ],
      "text/plain": [
       "   entity_id                      name  \\\n",
       "0          1             the ups store   \n",
       "1          2        st honore pastries   \n",
       "2          3  perkiomen valley brewery   \n",
       "3          4             sonic drivein   \n",
       "4          5           famous footwear   \n",
       "\n",
       "                                      address          city state  \\\n",
       "0             87 grasso plaza shopping center        affton    mo   \n",
       "1                                 935 race st  philadelphia    pa   \n",
       "2                               101 walnut st    green lane    pa   \n",
       "3                               615 s main st  ashland city    tn   \n",
       "4  8522 eager road, dierbergs brentwood point     brentwood    mo   \n",
       "\n",
       "  zip_code_str                                   address_combined  \n",
       "0        63123          87 grasso plaza shopping center affton mo  \n",
       "1        19107                        935 race st philadelphia pa  \n",
       "2        18054                        101 walnut st green lane pa  \n",
       "3        37015                      615 s main st ashland city tn  \n",
       "4        63144  8522 eager road dierbergs brentwood point bren...  "
      ]
     },
     "execution_count": 29,
     "metadata": {},
     "output_type": "execute_result"
    }
   ],
   "source": [
    "df_left.head()"
   ]
  },
  {
   "cell_type": "code",
   "execution_count": 30,
   "id": "ae2ec79b",
   "metadata": {
    "id": "ae2ec79b",
    "outputId": "d4e52117-0ca5-41a2-dbb6-027a726974c0"
   },
   "outputs": [
    {
     "data": {
      "text/html": [
       "<div>\n",
       "<style scoped>\n",
       "    .dataframe tbody tr th:only-of-type {\n",
       "        vertical-align: middle;\n",
       "    }\n",
       "\n",
       "    .dataframe tbody tr th {\n",
       "        vertical-align: top;\n",
       "    }\n",
       "\n",
       "    .dataframe thead th {\n",
       "        text-align: right;\n",
       "    }\n",
       "</style>\n",
       "<table border=\"1\" class=\"dataframe\">\n",
       "  <thead>\n",
       "    <tr style=\"text-align: right;\">\n",
       "      <th></th>\n",
       "      <th>business_id</th>\n",
       "      <th>name</th>\n",
       "      <th>address</th>\n",
       "      <th>city</th>\n",
       "      <th>state</th>\n",
       "      <th>zip_code</th>\n",
       "      <th>address_combined</th>\n",
       "    </tr>\n",
       "  </thead>\n",
       "  <tbody>\n",
       "    <tr>\n",
       "      <th>0</th>\n",
       "      <td>1</td>\n",
       "      <td>sourini painting inc</td>\n",
       "      <td>12800 44th st n</td>\n",
       "      <td>clearwater</td>\n",
       "      <td>fl</td>\n",
       "      <td>33762</td>\n",
       "      <td>12800 44th st n clearwater fl</td>\n",
       "    </tr>\n",
       "    <tr>\n",
       "      <th>1</th>\n",
       "      <td>2</td>\n",
       "      <td>wolff dolla bill llc</td>\n",
       "      <td>1905 e 19th ave</td>\n",
       "      <td>tampa</td>\n",
       "      <td>fl</td>\n",
       "      <td>33605</td>\n",
       "      <td>1905 e 19th ave tampa fl</td>\n",
       "    </tr>\n",
       "    <tr>\n",
       "      <th>2</th>\n",
       "      <td>3</td>\n",
       "      <td>comprehensive surgery center llc</td>\n",
       "      <td>1988 gulf to bay blvd, ste 1</td>\n",
       "      <td>clearwater</td>\n",
       "      <td>fl</td>\n",
       "      <td>33765</td>\n",
       "      <td>1988 gulf to bay blvd ste 1 clearwater fl</td>\n",
       "    </tr>\n",
       "    <tr>\n",
       "      <th>3</th>\n",
       "      <td>4</td>\n",
       "      <td>frank  adam apparel llc</td>\n",
       "      <td>13640 wright cir</td>\n",
       "      <td>tampa</td>\n",
       "      <td>fl</td>\n",
       "      <td>33626</td>\n",
       "      <td>13640 wright cir tampa fl</td>\n",
       "    </tr>\n",
       "    <tr>\n",
       "      <th>4</th>\n",
       "      <td>5</td>\n",
       "      <td>moreno plus transport inc</td>\n",
       "      <td>8608 huron court unite 58</td>\n",
       "      <td>tampa</td>\n",
       "      <td>fl</td>\n",
       "      <td>33614</td>\n",
       "      <td>8608 huron court unite 58 tampa fl</td>\n",
       "    </tr>\n",
       "  </tbody>\n",
       "</table>\n",
       "</div>"
      ],
      "text/plain": [
       "   business_id                              name  \\\n",
       "0            1              sourini painting inc   \n",
       "1            2              wolff dolla bill llc   \n",
       "2            3  comprehensive surgery center llc   \n",
       "3            4           frank  adam apparel llc   \n",
       "4            5         moreno plus transport inc   \n",
       "\n",
       "                        address        city state zip_code  \\\n",
       "0               12800 44th st n  clearwater    fl    33762   \n",
       "1               1905 e 19th ave       tampa    fl    33605   \n",
       "2  1988 gulf to bay blvd, ste 1  clearwater    fl    33765   \n",
       "3              13640 wright cir       tampa    fl    33626   \n",
       "4     8608 huron court unite 58       tampa    fl    33614   \n",
       "\n",
       "                            address_combined  \n",
       "0              12800 44th st n clearwater fl  \n",
       "1                   1905 e 19th ave tampa fl  \n",
       "2  1988 gulf to bay blvd ste 1 clearwater fl  \n",
       "3                  13640 wright cir tampa fl  \n",
       "4         8608 huron court unite 58 tampa fl  "
      ]
     },
     "execution_count": 30,
     "metadata": {},
     "output_type": "execute_result"
    }
   ],
   "source": [
    "df_right.head()"
   ]
  },
  {
   "cell_type": "code",
   "execution_count": 31,
   "id": "55835e8a-a8f3-4c8a-8a86-033c59516ddc",
   "metadata": {
    "id": "55835e8a-a8f3-4c8a-8a86-033c59516ddc",
    "outputId": "68c707be-55f9-4b1f-bd51-1005b2100a4e"
   },
   "outputs": [
    {
     "data": {
      "text/plain": [
       "business_id         91791\n",
       "name                78770\n",
       "address             75301\n",
       "city                   44\n",
       "state                   5\n",
       "zip_code              459\n",
       "address_combined    74480\n",
       "dtype: int64"
      ]
     },
     "execution_count": 31,
     "metadata": {},
     "output_type": "execute_result"
    }
   ],
   "source": [
    "df_right.nunique()"
   ]
  },
  {
   "cell_type": "code",
   "execution_count": 32,
   "id": "7145ea76-d792-4e0a-b56e-a5699f128f84",
   "metadata": {
    "id": "7145ea76-d792-4e0a-b56e-a5699f128f84",
    "outputId": "111c3adb-ce87-48ac-8a79-3cb929ed3b23"
   },
   "outputs": [
    {
     "data": {
      "text/plain": [
       "entity_id           94585\n",
       "name                71739\n",
       "address             77113\n",
       "city                  794\n",
       "state                   5\n",
       "zip_code_str          744\n",
       "address_combined    78817\n",
       "dtype: int64"
      ]
     },
     "execution_count": 32,
     "metadata": {},
     "output_type": "execute_result"
    }
   ],
   "source": [
    "df_left.nunique()"
   ]
  },
  {
   "cell_type": "code",
   "execution_count": 33,
   "id": "cbab8f30-b68c-4cb1-8a78-aaa1685a36f2",
   "metadata": {
    "id": "cbab8f30-b68c-4cb1-8a78-aaa1685a36f2"
   },
   "outputs": [],
   "source": [
    "# The number of cities are differnet between the two datasets."
   ]
  },
  {
   "cell_type": "code",
   "execution_count": 34,
   "id": "bc1c387e-602c-4358-8f7f-21f54e5a0c36",
   "metadata": {
    "id": "bc1c387e-602c-4358-8f7f-21f54e5a0c36",
    "outputId": "c6033cc9-5719-4e55-a46f-e4c15ffa79ac"
   },
   "outputs": [
    {
     "data": {
      "text/html": [
       "<div>\n",
       "<style scoped>\n",
       "    .dataframe tbody tr th:only-of-type {\n",
       "        vertical-align: middle;\n",
       "    }\n",
       "\n",
       "    .dataframe tbody tr th {\n",
       "        vertical-align: top;\n",
       "    }\n",
       "\n",
       "    .dataframe thead th {\n",
       "        text-align: right;\n",
       "    }\n",
       "</style>\n",
       "<table border=\"1\" class=\"dataframe\">\n",
       "  <thead>\n",
       "    <tr style=\"text-align: right;\">\n",
       "      <th></th>\n",
       "      <th>zip_code_str</th>\n",
       "      <th>entity_id</th>\n",
       "    </tr>\n",
       "  </thead>\n",
       "  <tbody>\n",
       "    <tr>\n",
       "      <th>0</th>\n",
       "      <td>63123</td>\n",
       "      <td>1</td>\n",
       "    </tr>\n",
       "    <tr>\n",
       "      <th>1</th>\n",
       "      <td>19107</td>\n",
       "      <td>2</td>\n",
       "    </tr>\n",
       "    <tr>\n",
       "      <th>2</th>\n",
       "      <td>18054</td>\n",
       "      <td>3</td>\n",
       "    </tr>\n",
       "    <tr>\n",
       "      <th>3</th>\n",
       "      <td>37015</td>\n",
       "      <td>4</td>\n",
       "    </tr>\n",
       "    <tr>\n",
       "      <th>4</th>\n",
       "      <td>63144</td>\n",
       "      <td>5</td>\n",
       "    </tr>\n",
       "  </tbody>\n",
       "</table>\n",
       "</div>"
      ],
      "text/plain": [
       "  zip_code_str  entity_id\n",
       "0        63123          1\n",
       "1        19107          2\n",
       "2        18054          3\n",
       "3        37015          4\n",
       "4        63144          5"
      ]
     },
     "execution_count": 34,
     "metadata": {},
     "output_type": "execute_result"
    }
   ],
   "source": [
    "dfmap_left = df_left[['zip_code_str', 'entity_id']]\n",
    "dfmap_left.head()"
   ]
  },
  {
   "cell_type": "code",
   "execution_count": 35,
   "id": "bea56cca-317e-4823-bba7-7141983decb8",
   "metadata": {
    "id": "bea56cca-317e-4823-bba7-7141983decb8",
    "outputId": "0f59572b-6e7c-4bfc-ccf0-be76c9ba3ab9"
   },
   "outputs": [
    {
     "data": {
      "text/html": [
       "<div>\n",
       "<style scoped>\n",
       "    .dataframe tbody tr th:only-of-type {\n",
       "        vertical-align: middle;\n",
       "    }\n",
       "\n",
       "    .dataframe tbody tr th {\n",
       "        vertical-align: top;\n",
       "    }\n",
       "\n",
       "    .dataframe thead th {\n",
       "        text-align: right;\n",
       "    }\n",
       "</style>\n",
       "<table border=\"1\" class=\"dataframe\">\n",
       "  <thead>\n",
       "    <tr style=\"text-align: right;\">\n",
       "      <th></th>\n",
       "      <th>zip_code</th>\n",
       "      <th>business_id</th>\n",
       "    </tr>\n",
       "  </thead>\n",
       "  <tbody>\n",
       "    <tr>\n",
       "      <th>0</th>\n",
       "      <td>33762</td>\n",
       "      <td>1</td>\n",
       "    </tr>\n",
       "    <tr>\n",
       "      <th>1</th>\n",
       "      <td>33605</td>\n",
       "      <td>2</td>\n",
       "    </tr>\n",
       "    <tr>\n",
       "      <th>2</th>\n",
       "      <td>33765</td>\n",
       "      <td>3</td>\n",
       "    </tr>\n",
       "    <tr>\n",
       "      <th>3</th>\n",
       "      <td>33626</td>\n",
       "      <td>4</td>\n",
       "    </tr>\n",
       "    <tr>\n",
       "      <th>4</th>\n",
       "      <td>33614</td>\n",
       "      <td>5</td>\n",
       "    </tr>\n",
       "  </tbody>\n",
       "</table>\n",
       "</div>"
      ],
      "text/plain": [
       "  zip_code  business_id\n",
       "0    33762            1\n",
       "1    33605            2\n",
       "2    33765            3\n",
       "3    33626            4\n",
       "4    33614            5"
      ]
     },
     "execution_count": 35,
     "metadata": {},
     "output_type": "execute_result"
    }
   ],
   "source": [
    "dfmap_right = df_right[['zip_code', 'business_id']]\n",
    "dfmap_right.head()"
   ]
  },
  {
   "cell_type": "markdown",
   "id": "8f7402c6-8967-4d2f-b048-33c8d6f322f9",
   "metadata": {
    "id": "8f7402c6-8967-4d2f-b048-33c8d6f322f9",
    "tags": []
   },
   "source": [
    "## Data Exploration with Visualizations"
   ]
  },
  {
   "cell_type": "markdown",
   "id": "e83e8a0f-28ae-4481-9313-d448c28fc356",
   "metadata": {
    "id": "e83e8a0f-28ae-4481-9313-d448c28fc356"
   },
   "source": [
    "### US Map based on Zipcode"
   ]
  },
  {
   "cell_type": "code",
   "execution_count": 36,
   "id": "fcac779f-0b3b-42b3-9473-f9f1ebbb7453",
   "metadata": {
    "id": "fcac779f-0b3b-42b3-9473-f9f1ebbb7453"
   },
   "outputs": [],
   "source": [
    "# pip install folium"
   ]
  },
  {
   "cell_type": "code",
   "execution_count": 37,
   "id": "75fd132f-9f25-462e-98f4-66f7a6549130",
   "metadata": {
    "id": "75fd132f-9f25-462e-98f4-66f7a6549130"
   },
   "outputs": [],
   "source": [
    "import folium\n",
    "# Load the dataset that contains latitude & longitude information\n",
    "data = pd.read_csv('zip_lat_long.csv')\n",
    "\n",
    "# Create the map\n",
    "map_left = folium.Map(location=[37, -102], zoom_start=5)\n",
    "map_right = folium.Map(location=[37, -102], zoom_start=5)"
   ]
  },
  {
   "cell_type": "code",
   "execution_count": 38,
   "id": "40d2d406-fe6b-4708-b85f-5da74e0ea321",
   "metadata": {
    "id": "40d2d406-fe6b-4708-b85f-5da74e0ea321",
    "outputId": "78cf55d7-baa9-4c2e-83aa-51b77c5907e9"
   },
   "outputs": [
    {
     "name": "stdout",
     "output_type": "stream",
     "text": [
      "<class 'pandas.core.frame.DataFrame'>\n",
      "RangeIndex: 94585 entries, 0 to 94584\n",
      "Data columns (total 2 columns):\n",
      " #   Column        Non-Null Count  Dtype \n",
      "---  ------        --------------  ----- \n",
      " 0   zip_code_str  94585 non-null  object\n",
      " 1   entity_id     94585 non-null  int64 \n",
      "dtypes: int64(1), object(1)\n",
      "memory usage: 1.4+ MB\n"
     ]
    }
   ],
   "source": [
    "dfmap_left.info()"
   ]
  },
  {
   "cell_type": "code",
   "execution_count": 39,
   "id": "c8e91074-df43-4760-943d-4bc30c67a65e",
   "metadata": {
    "id": "c8e91074-df43-4760-943d-4bc30c67a65e"
   },
   "outputs": [],
   "source": [
    "# Rename the column names in the additional dataset\n",
    "dfmap_left = dfmap_left.rename(columns={'zip_code_str': 'ZIP', 'entity_id': 'entity_id'})"
   ]
  },
  {
   "cell_type": "code",
   "execution_count": 40,
   "id": "1ac8bc80-e5fd-45a8-9f50-208f569bf27c",
   "metadata": {
    "id": "1ac8bc80-e5fd-45a8-9f50-208f569bf27c"
   },
   "outputs": [],
   "source": [
    "# Convert the 'Zip Code' column to a string data type in both dataframes\n",
    "dfmap_left['ZIP'] = dfmap_left['ZIP'].astype(str)\n",
    "data['ZIP'] = data['ZIP'].astype(str)\n",
    "\n",
    "# Merge the datasets on the 'Zip Code' column\n",
    "merged_left = pd.merge(dfmap_left, data, on='ZIP')"
   ]
  },
  {
   "cell_type": "code",
   "execution_count": 41,
   "id": "66fc5b25-0c17-4555-9eb7-ee2a965ea040",
   "metadata": {
    "id": "66fc5b25-0c17-4555-9eb7-ee2a965ea040"
   },
   "outputs": [],
   "source": [
    "# Add markers for each zip code with additional data\n",
    "for index, row in merged_left.iterrows():\n",
    "    folium.Marker(location=[row['LAT'], row['LNG']], popup=row['entity_id']).add_to(map_left)"
   ]
  },
  {
   "cell_type": "code",
   "execution_count": 42,
   "id": "b1c65795-4864-435d-ad9b-03732ec90989",
   "metadata": {
    "id": "b1c65795-4864-435d-ad9b-03732ec90989",
    "outputId": "6443ab4d-973d-46d9-9ca3-de02e5a5dcb8"
   },
   "outputs": [
    {
     "name": "stdout",
     "output_type": "stream",
     "text": [
      "<class 'pandas.core.frame.DataFrame'>\n",
      "RangeIndex: 91791 entries, 0 to 91790\n",
      "Data columns (total 2 columns):\n",
      " #   Column       Non-Null Count  Dtype \n",
      "---  ------       --------------  ----- \n",
      " 0   zip_code     91791 non-null  object\n",
      " 1   business_id  91791 non-null  int64 \n",
      "dtypes: int64(1), object(1)\n",
      "memory usage: 1.4+ MB\n"
     ]
    }
   ],
   "source": [
    "dfmap_right.info()"
   ]
  },
  {
   "cell_type": "code",
   "execution_count": 43,
   "id": "63024067-384d-4f2c-bf05-3690b0cea5af",
   "metadata": {
    "id": "63024067-384d-4f2c-bf05-3690b0cea5af"
   },
   "outputs": [],
   "source": [
    "# Rename the column names in the additional dataset\n",
    "dfmap_right = dfmap_right.rename(columns={'zip_code': 'ZIP', 'business_id': 'business_id'})\n",
    "\n",
    "# Convert the 'Zip Code' column to a string data type\n",
    "dfmap_right['ZIP'] = dfmap_right['ZIP'].astype(str)\n",
    "\n",
    "# Merge the datasets on the 'Zip Code' column\n",
    "merged_right = pd.merge(dfmap_right, data, on='ZIP')"
   ]
  },
  {
   "cell_type": "code",
   "execution_count": 44,
   "id": "85e21010-8947-402e-9f6b-a7e46452dbed",
   "metadata": {
    "id": "85e21010-8947-402e-9f6b-a7e46452dbed"
   },
   "outputs": [],
   "source": [
    "# Add markers for each zip code with additional data\n",
    "for index, row in merged_right.iterrows():\n",
    "    folium.Marker(location=[row['LAT'], row['LNG']], popup=row['business_id']).add_to(map_right)"
   ]
  },
  {
   "cell_type": "markdown",
   "id": "1b111e4b",
   "metadata": {
    "id": "1b111e4b",
    "tags": []
   },
   "source": [
    "# inner join two dfs and see the perfect match (try)"
   ]
  },
  {
   "cell_type": "code",
   "execution_count": 45,
   "id": "6b21dbab",
   "metadata": {
    "id": "6b21dbab"
   },
   "outputs": [],
   "source": [
    "# Merge address_combined and postal_code into a single column\n",
    "df_left['address_combined_with_zip'] = df_left.apply(lambda row: ' '.join(row[['address_combined', 'zip_code_str']].astype(str)), axis=1)\n",
    "df_right['address_combined_with_zip'] = df_right.apply(lambda row: ' '.join(row[['address_combined', 'zip_code']].astype(str)), axis=1)"
   ]
  },
  {
   "cell_type": "code",
   "execution_count": 46,
   "id": "33a17fa1",
   "metadata": {
    "id": "33a17fa1"
   },
   "outputs": [],
   "source": [
    "import string\n",
    "\n",
    "# Remove punctuation from the \"address_combined_with_zip\" column in both datasets\n",
    "df_left[\"address_combined_with_zip\"] = df_left[\"address_combined_with_zip\"].apply(remove_punct)\n",
    "df_right[\"address_combined_with_zip\"] = df_right[\"address_combined_with_zip\"].apply(remove_punct)"
   ]
  },
  {
   "cell_type": "code",
   "execution_count": 47,
   "id": "5e6edcf2",
   "metadata": {
    "id": "5e6edcf2",
    "outputId": "c0d2c765-7bb5-4c71-ae96-b20bdcecff9d"
   },
   "outputs": [
    {
     "data": {
      "text/html": [
       "<div>\n",
       "<style scoped>\n",
       "    .dataframe tbody tr th:only-of-type {\n",
       "        vertical-align: middle;\n",
       "    }\n",
       "\n",
       "    .dataframe tbody tr th {\n",
       "        vertical-align: top;\n",
       "    }\n",
       "\n",
       "    .dataframe thead th {\n",
       "        text-align: right;\n",
       "    }\n",
       "</style>\n",
       "<table border=\"1\" class=\"dataframe\">\n",
       "  <thead>\n",
       "    <tr style=\"text-align: right;\">\n",
       "      <th></th>\n",
       "      <th>entity_id</th>\n",
       "      <th>name</th>\n",
       "      <th>address</th>\n",
       "      <th>city</th>\n",
       "      <th>state</th>\n",
       "      <th>zip_code_str</th>\n",
       "      <th>address_combined</th>\n",
       "      <th>address_combined_with_zip</th>\n",
       "    </tr>\n",
       "  </thead>\n",
       "  <tbody>\n",
       "    <tr>\n",
       "      <th>0</th>\n",
       "      <td>1</td>\n",
       "      <td>the ups store</td>\n",
       "      <td>87 grasso plaza shopping center</td>\n",
       "      <td>affton</td>\n",
       "      <td>mo</td>\n",
       "      <td>63123</td>\n",
       "      <td>87 grasso plaza shopping center affton mo</td>\n",
       "      <td>87 grasso plaza shopping center affton mo 63123</td>\n",
       "    </tr>\n",
       "    <tr>\n",
       "      <th>1</th>\n",
       "      <td>2</td>\n",
       "      <td>st honore pastries</td>\n",
       "      <td>935 race st</td>\n",
       "      <td>philadelphia</td>\n",
       "      <td>pa</td>\n",
       "      <td>19107</td>\n",
       "      <td>935 race st philadelphia pa</td>\n",
       "      <td>935 race st philadelphia pa 19107</td>\n",
       "    </tr>\n",
       "    <tr>\n",
       "      <th>2</th>\n",
       "      <td>3</td>\n",
       "      <td>perkiomen valley brewery</td>\n",
       "      <td>101 walnut st</td>\n",
       "      <td>green lane</td>\n",
       "      <td>pa</td>\n",
       "      <td>18054</td>\n",
       "      <td>101 walnut st green lane pa</td>\n",
       "      <td>101 walnut st green lane pa 18054</td>\n",
       "    </tr>\n",
       "    <tr>\n",
       "      <th>3</th>\n",
       "      <td>4</td>\n",
       "      <td>sonic drivein</td>\n",
       "      <td>615 s main st</td>\n",
       "      <td>ashland city</td>\n",
       "      <td>tn</td>\n",
       "      <td>37015</td>\n",
       "      <td>615 s main st ashland city tn</td>\n",
       "      <td>615 s main st ashland city tn 37015</td>\n",
       "    </tr>\n",
       "    <tr>\n",
       "      <th>4</th>\n",
       "      <td>5</td>\n",
       "      <td>famous footwear</td>\n",
       "      <td>8522 eager road, dierbergs brentwood point</td>\n",
       "      <td>brentwood</td>\n",
       "      <td>mo</td>\n",
       "      <td>63144</td>\n",
       "      <td>8522 eager road dierbergs brentwood point bren...</td>\n",
       "      <td>8522 eager road dierbergs brentwood point bren...</td>\n",
       "    </tr>\n",
       "  </tbody>\n",
       "</table>\n",
       "</div>"
      ],
      "text/plain": [
       "   entity_id                      name  \\\n",
       "0          1             the ups store   \n",
       "1          2        st honore pastries   \n",
       "2          3  perkiomen valley brewery   \n",
       "3          4             sonic drivein   \n",
       "4          5           famous footwear   \n",
       "\n",
       "                                      address          city state  \\\n",
       "0             87 grasso plaza shopping center        affton    mo   \n",
       "1                                 935 race st  philadelphia    pa   \n",
       "2                               101 walnut st    green lane    pa   \n",
       "3                               615 s main st  ashland city    tn   \n",
       "4  8522 eager road, dierbergs brentwood point     brentwood    mo   \n",
       "\n",
       "  zip_code_str                                   address_combined  \\\n",
       "0        63123          87 grasso plaza shopping center affton mo   \n",
       "1        19107                        935 race st philadelphia pa   \n",
       "2        18054                        101 walnut st green lane pa   \n",
       "3        37015                      615 s main st ashland city tn   \n",
       "4        63144  8522 eager road dierbergs brentwood point bren...   \n",
       "\n",
       "                           address_combined_with_zip  \n",
       "0    87 grasso plaza shopping center affton mo 63123  \n",
       "1                  935 race st philadelphia pa 19107  \n",
       "2                  101 walnut st green lane pa 18054  \n",
       "3                615 s main st ashland city tn 37015  \n",
       "4  8522 eager road dierbergs brentwood point bren...  "
      ]
     },
     "execution_count": 47,
     "metadata": {},
     "output_type": "execute_result"
    }
   ],
   "source": [
    "df_left.head()"
   ]
  },
  {
   "cell_type": "code",
   "execution_count": 48,
   "id": "e7618d77",
   "metadata": {
    "id": "e7618d77",
    "outputId": "1aa3cf14-7de5-4142-aa04-c3884baf63d9"
   },
   "outputs": [
    {
     "data": {
      "text/html": [
       "<div>\n",
       "<style scoped>\n",
       "    .dataframe tbody tr th:only-of-type {\n",
       "        vertical-align: middle;\n",
       "    }\n",
       "\n",
       "    .dataframe tbody tr th {\n",
       "        vertical-align: top;\n",
       "    }\n",
       "\n",
       "    .dataframe thead th {\n",
       "        text-align: right;\n",
       "    }\n",
       "</style>\n",
       "<table border=\"1\" class=\"dataframe\">\n",
       "  <thead>\n",
       "    <tr style=\"text-align: right;\">\n",
       "      <th></th>\n",
       "      <th>business_id</th>\n",
       "      <th>name</th>\n",
       "      <th>address</th>\n",
       "      <th>city</th>\n",
       "      <th>state</th>\n",
       "      <th>zip_code</th>\n",
       "      <th>address_combined</th>\n",
       "      <th>address_combined_with_zip</th>\n",
       "    </tr>\n",
       "  </thead>\n",
       "  <tbody>\n",
       "    <tr>\n",
       "      <th>0</th>\n",
       "      <td>1</td>\n",
       "      <td>sourini painting inc</td>\n",
       "      <td>12800 44th st n</td>\n",
       "      <td>clearwater</td>\n",
       "      <td>fl</td>\n",
       "      <td>33762</td>\n",
       "      <td>12800 44th st n clearwater fl</td>\n",
       "      <td>12800 44th st n clearwater fl 33762</td>\n",
       "    </tr>\n",
       "    <tr>\n",
       "      <th>1</th>\n",
       "      <td>2</td>\n",
       "      <td>wolff dolla bill llc</td>\n",
       "      <td>1905 e 19th ave</td>\n",
       "      <td>tampa</td>\n",
       "      <td>fl</td>\n",
       "      <td>33605</td>\n",
       "      <td>1905 e 19th ave tampa fl</td>\n",
       "      <td>1905 e 19th ave tampa fl 33605</td>\n",
       "    </tr>\n",
       "    <tr>\n",
       "      <th>2</th>\n",
       "      <td>3</td>\n",
       "      <td>comprehensive surgery center llc</td>\n",
       "      <td>1988 gulf to bay blvd, ste 1</td>\n",
       "      <td>clearwater</td>\n",
       "      <td>fl</td>\n",
       "      <td>33765</td>\n",
       "      <td>1988 gulf to bay blvd ste 1 clearwater fl</td>\n",
       "      <td>1988 gulf to bay blvd ste 1 clearwater fl 33765</td>\n",
       "    </tr>\n",
       "    <tr>\n",
       "      <th>3</th>\n",
       "      <td>4</td>\n",
       "      <td>frank  adam apparel llc</td>\n",
       "      <td>13640 wright cir</td>\n",
       "      <td>tampa</td>\n",
       "      <td>fl</td>\n",
       "      <td>33626</td>\n",
       "      <td>13640 wright cir tampa fl</td>\n",
       "      <td>13640 wright cir tampa fl 33626</td>\n",
       "    </tr>\n",
       "    <tr>\n",
       "      <th>4</th>\n",
       "      <td>5</td>\n",
       "      <td>moreno plus transport inc</td>\n",
       "      <td>8608 huron court unite 58</td>\n",
       "      <td>tampa</td>\n",
       "      <td>fl</td>\n",
       "      <td>33614</td>\n",
       "      <td>8608 huron court unite 58 tampa fl</td>\n",
       "      <td>8608 huron court unite 58 tampa fl 33614</td>\n",
       "    </tr>\n",
       "  </tbody>\n",
       "</table>\n",
       "</div>"
      ],
      "text/plain": [
       "   business_id                              name  \\\n",
       "0            1              sourini painting inc   \n",
       "1            2              wolff dolla bill llc   \n",
       "2            3  comprehensive surgery center llc   \n",
       "3            4           frank  adam apparel llc   \n",
       "4            5         moreno plus transport inc   \n",
       "\n",
       "                        address        city state zip_code  \\\n",
       "0               12800 44th st n  clearwater    fl    33762   \n",
       "1               1905 e 19th ave       tampa    fl    33605   \n",
       "2  1988 gulf to bay blvd, ste 1  clearwater    fl    33765   \n",
       "3              13640 wright cir       tampa    fl    33626   \n",
       "4     8608 huron court unite 58       tampa    fl    33614   \n",
       "\n",
       "                            address_combined  \\\n",
       "0              12800 44th st n clearwater fl   \n",
       "1                   1905 e 19th ave tampa fl   \n",
       "2  1988 gulf to bay blvd ste 1 clearwater fl   \n",
       "3                  13640 wright cir tampa fl   \n",
       "4         8608 huron court unite 58 tampa fl   \n",
       "\n",
       "                         address_combined_with_zip  \n",
       "0              12800 44th st n clearwater fl 33762  \n",
       "1                   1905 e 19th ave tampa fl 33605  \n",
       "2  1988 gulf to bay blvd ste 1 clearwater fl 33765  \n",
       "3                  13640 wright cir tampa fl 33626  \n",
       "4         8608 huron court unite 58 tampa fl 33614  "
      ]
     },
     "execution_count": 48,
     "metadata": {},
     "output_type": "execute_result"
    }
   ],
   "source": [
    "df_right.head()"
   ]
  },
  {
   "cell_type": "code",
   "execution_count": 49,
   "id": "8fa9fdd1",
   "metadata": {
    "id": "8fa9fdd1",
    "outputId": "4de3ac39-27a4-4dda-e34b-500b395d4da6"
   },
   "outputs": [
    {
     "data": {
      "text/html": [
       "<div>\n",
       "<style scoped>\n",
       "    .dataframe tbody tr th:only-of-type {\n",
       "        vertical-align: middle;\n",
       "    }\n",
       "\n",
       "    .dataframe tbody tr th {\n",
       "        vertical-align: top;\n",
       "    }\n",
       "\n",
       "    .dataframe thead th {\n",
       "        text-align: right;\n",
       "    }\n",
       "</style>\n",
       "<table border=\"1\" class=\"dataframe\">\n",
       "  <thead>\n",
       "    <tr style=\"text-align: right;\">\n",
       "      <th></th>\n",
       "      <th>entity_id</th>\n",
       "      <th>business_id</th>\n",
       "      <th>name</th>\n",
       "      <th>address_combined_with_zip</th>\n",
       "    </tr>\n",
       "  </thead>\n",
       "  <tbody>\n",
       "    <tr>\n",
       "      <th>0</th>\n",
       "      <td>159</td>\n",
       "      <td>16722</td>\n",
       "      <td>nails  beauty lounge</td>\n",
       "      <td>953 e brandon blvd brandon fl 33511</td>\n",
       "    </tr>\n",
       "    <tr>\n",
       "      <th>1</th>\n",
       "      <td>394</td>\n",
       "      <td>74086</td>\n",
       "      <td>state street kitchen</td>\n",
       "      <td>24 s state st newtown pa 18940</td>\n",
       "    </tr>\n",
       "    <tr>\n",
       "      <th>2</th>\n",
       "      <td>555</td>\n",
       "      <td>69048</td>\n",
       "      <td>a jackson ecker inc</td>\n",
       "      <td>144 king st pottstown pa 19464</td>\n",
       "    </tr>\n",
       "    <tr>\n",
       "      <th>3</th>\n",
       "      <td>608</td>\n",
       "      <td>54989</td>\n",
       "      <td>philadelphia skating club and humane society</td>\n",
       "      <td>220 holland ave ardmore pa 19003</td>\n",
       "    </tr>\n",
       "    <tr>\n",
       "      <th>4</th>\n",
       "      <td>715</td>\n",
       "      <td>74025</td>\n",
       "      <td>golden triangle</td>\n",
       "      <td>610 s 5th st philadelphia pa 19147</td>\n",
       "    </tr>\n",
       "    <tr>\n",
       "      <th>...</th>\n",
       "      <td>...</td>\n",
       "      <td>...</td>\n",
       "      <td>...</td>\n",
       "      <td>...</td>\n",
       "    </tr>\n",
       "    <tr>\n",
       "      <th>512</th>\n",
       "      <td>93796</td>\n",
       "      <td>66065</td>\n",
       "      <td>dml automotive</td>\n",
       "      <td>1001 wilmington pike west chester pa 19382</td>\n",
       "    </tr>\n",
       "    <tr>\n",
       "      <th>513</th>\n",
       "      <td>93810</td>\n",
       "      <td>85588</td>\n",
       "      <td>the spectacle shoppe</td>\n",
       "      <td>1015 westhaven blvd ste 100 franklin tn 37064</td>\n",
       "    </tr>\n",
       "    <tr>\n",
       "      <th>514</th>\n",
       "      <td>93810</td>\n",
       "      <td>85589</td>\n",
       "      <td>the spectacle shoppe</td>\n",
       "      <td>1015 westhaven blvd ste 100 franklin tn 37064</td>\n",
       "    </tr>\n",
       "    <tr>\n",
       "      <th>515</th>\n",
       "      <td>93973</td>\n",
       "      <td>50414</td>\n",
       "      <td>creative nails</td>\n",
       "      <td>4155 lindell blvd saint louis mo 63108</td>\n",
       "    </tr>\n",
       "    <tr>\n",
       "      <th>516</th>\n",
       "      <td>94303</td>\n",
       "      <td>25239</td>\n",
       "      <td>mitchell chiropractic</td>\n",
       "      <td>1580 n mcmullen booth rd clearwater fl 33759</td>\n",
       "    </tr>\n",
       "  </tbody>\n",
       "</table>\n",
       "<p>517 rows × 4 columns</p>\n",
       "</div>"
      ],
      "text/plain": [
       "     entity_id  business_id                                          name  \\\n",
       "0          159        16722                          nails  beauty lounge   \n",
       "1          394        74086                          state street kitchen   \n",
       "2          555        69048                           a jackson ecker inc   \n",
       "3          608        54989  philadelphia skating club and humane society   \n",
       "4          715        74025                               golden triangle   \n",
       "..         ...          ...                                           ...   \n",
       "512      93796        66065                                dml automotive   \n",
       "513      93810        85588                          the spectacle shoppe   \n",
       "514      93810        85589                          the spectacle shoppe   \n",
       "515      93973        50414                                creative nails   \n",
       "516      94303        25239                         mitchell chiropractic   \n",
       "\n",
       "                         address_combined_with_zip  \n",
       "0              953 e brandon blvd brandon fl 33511  \n",
       "1                   24 s state st newtown pa 18940  \n",
       "2                   144 king st pottstown pa 19464  \n",
       "3                 220 holland ave ardmore pa 19003  \n",
       "4               610 s 5th st philadelphia pa 19147  \n",
       "..                                             ...  \n",
       "512     1001 wilmington pike west chester pa 19382  \n",
       "513  1015 westhaven blvd ste 100 franklin tn 37064  \n",
       "514  1015 westhaven blvd ste 100 franklin tn 37064  \n",
       "515         4155 lindell blvd saint louis mo 63108  \n",
       "516   1580 n mcmullen booth rd clearwater fl 33759  \n",
       "\n",
       "[517 rows x 4 columns]"
      ]
     },
     "execution_count": 49,
     "metadata": {},
     "output_type": "execute_result"
    }
   ],
   "source": [
    "# inner join\n",
    "df_perfect_match = pd.merge(df_left, df_right, on=['name', 'address_combined_with_zip'], how='inner')\n",
    "\n",
    "cols = [\"entity_id\",\"business_id\",\"name\",\"address_combined_with_zip\"]\n",
    "df_perfect_match[cols]"
   ]
  },
  {
   "cell_type": "code",
   "execution_count": 50,
   "id": "5a971ecf",
   "metadata": {
    "id": "5a971ecf",
    "outputId": "9bc9c311-3d5c-4199-de62-c7f560557088"
   },
   "outputs": [
    {
     "name": "stdout",
     "output_type": "stream",
     "text": [
      "Number of perfect match: 517\n"
     ]
    }
   ],
   "source": [
    "# number of perfect match\n",
    "print(f\"Number of perfect match: {len(df_perfect_match)}\")"
   ]
  },
  {
   "cell_type": "markdown",
   "id": "e6936227",
   "metadata": {
    "id": "e6936227"
   },
   "source": [
    "# Grouping & bucketing strategy - by zip code\n",
    "https://www.kaggle.com/code/satishgunjal/fuzzy-record-matching-using-machine-learning#Introduction"
   ]
  },
  {
   "cell_type": "markdown",
   "id": "d3cafbfa",
   "metadata": {
    "id": "d3cafbfa"
   },
   "source": [
    "## Examine groups"
   ]
  },
  {
   "cell_type": "code",
   "execution_count": 51,
   "id": "41f120c0",
   "metadata": {
    "id": "41f120c0",
    "outputId": "c89096c5-acb3-411e-cc83-de2b731e4a12"
   },
   "outputs": [
    {
     "data": {
      "text/plain": [
       "744"
      ]
     },
     "execution_count": 51,
     "metadata": {},
     "output_type": "execute_result"
    }
   ],
   "source": [
    "len(set(df_left[\"zip_code_str\"]))\n"
   ]
  },
  {
   "cell_type": "code",
   "execution_count": 52,
   "id": "c450b2c4",
   "metadata": {
    "id": "c450b2c4",
    "outputId": "6e9d2154-5851-4c3f-f853-a0d59c291254"
   },
   "outputs": [
    {
     "data": {
      "text/plain": [
       "459"
      ]
     },
     "execution_count": 52,
     "metadata": {},
     "output_type": "execute_result"
    }
   ],
   "source": [
    "len(set(df_right[\"zip_code\"]))"
   ]
  },
  {
   "cell_type": "code",
   "execution_count": 53,
   "id": "4938a706",
   "metadata": {
    "id": "4938a706",
    "outputId": "398a205b-c052-4054-cad5-e559b4db3cc9"
   },
   "outputs": [
    {
     "data": {
      "text/plain": [
       "19103    1361\n",
       "19107    1353\n",
       "19147    1255\n",
       "37203    1179\n",
       "33511     940\n",
       "         ... \n",
       "38066       1\n",
       "46211       1\n",
       "37130       1\n",
       "37604       1\n",
       "33595       1\n",
       "Name: zip_code_str, Length: 744, dtype: int64"
      ]
     },
     "execution_count": 53,
     "metadata": {},
     "output_type": "execute_result"
    }
   ],
   "source": [
    "# count by zip code\n",
    "counts_left = df_left[\"zip_code_str\"].value_counts()\n",
    "counts_left"
   ]
  },
  {
   "cell_type": "code",
   "execution_count": 54,
   "id": "54866187",
   "metadata": {
    "id": "54866187",
    "outputId": "1debdf9c-0d01-411c-ff28-da7597b2194f"
   },
   "outputs": [
    {
     "data": {
      "text/plain": [
       "37203    1258\n",
       "37064    1139\n",
       "19103    1051\n",
       "37211    1028\n",
       "33511     992\n",
       "37067     886\n",
       "33606     872\n",
       "33614     871\n",
       "19382     840\n",
       "19107     821\n",
       "Name: zip_code, dtype: int64"
      ]
     },
     "execution_count": 54,
     "metadata": {},
     "output_type": "execute_result"
    }
   ],
   "source": [
    "counts_right = df_right[\"zip_code\"].value_counts()\n",
    "counts_right.head(10)"
   ]
  },
  {
   "cell_type": "code",
   "execution_count": 55,
   "id": "2f7e8a26",
   "metadata": {
    "id": "2f7e8a26",
    "outputId": "3430bcab-1540-49b7-bee7-b944731c48ed"
   },
   "outputs": [
    {
     "data": {
      "image/png": "[encoded data removed]",
      "text/plain": [
       "<Figure size 640x480 with 1 Axes>"
      ]
     },
     "metadata": {},
     "output_type": "display_data"
    }
   ],
   "source": [
    "import matplotlib.pyplot as plt\n",
    "\n",
    "counts_left.plot(kind=\"hist\", bins=50)\n",
    "plt.show()"
   ]
  },
  {
   "cell_type": "code",
   "execution_count": 56,
   "id": "02ae2346",
   "metadata": {
    "id": "02ae2346",
    "outputId": "e12b1fc5-8737-4f85-cc96-a5a2767e352b"
   },
   "outputs": [
    {
     "data": {
      "image/png": "[encoded data removed]",
      "text/plain": [
       "<Figure size 640x480 with 1 Axes>"
      ]
     },
     "metadata": {},
     "output_type": "display_data"
    }
   ],
   "source": [
    "\n",
    "counts_right.plot(kind=\"hist\", bins=50)\n",
    "plt.show()"
   ]
  },
  {
   "cell_type": "code",
   "execution_count": 57,
   "id": "6e414600",
   "metadata": {
    "id": "6e414600",
    "outputId": "a78c10a2-9cd2-4e0e-8504-67867b9adf14"
   },
   "outputs": [
    {
     "name": "stdout",
     "output_type": "stream",
     "text": [
      "There are 29 zip codes with counts > 500.\n",
      "There are 183 zip codes with counts > 200.\n",
      "There are 287 zip codes with counts > 100.\n",
      "There are 358 zip codes with counts > 50.\n",
      "There are 495 zip codes with counts > 5.\n",
      "There are 242 zip codes with counts < 5.\n"
     ]
    }
   ],
   "source": [
    "# left\n",
    "print(f\"There are {(counts_left > 500).sum()} zip codes with counts > 500.\")\n",
    "print(f\"There are {(counts_left > 200).sum()} zip codes with counts > 200.\")\n",
    "print(f\"There are {(counts_left > 100).sum()} zip codes with counts > 100.\")\n",
    "print(f\"There are {(counts_left > 50).sum()} zip codes with counts > 50.\")\n",
    "print(f\"There are {(counts_left > 5).sum()} zip codes with counts > 5.\")\n",
    "print(f\"There are {(counts_left < 5).sum()} zip codes with counts < 5.\")"
   ]
  },
  {
   "cell_type": "code",
   "execution_count": 58,
   "id": "db6f4878",
   "metadata": {
    "id": "db6f4878",
    "outputId": "7826235b-7c37-4b47-dba2-e1cafe655591"
   },
   "outputs": [
    {
     "name": "stdout",
     "output_type": "stream",
     "text": [
      "There are 54 zip codes with counts > 500.\n",
      "There are 186 zip codes with counts > 200.\n",
      "There are 228 zip codes with counts > 100.\n",
      "There are 256 zip codes with counts > 50.\n",
      "There are 280 zip codes with counts > 5.\n",
      "There are 170 zip codes with counts < 5.\n"
     ]
    }
   ],
   "source": [
    "# right\n",
    "print(f\"There are {(counts_right > 500).sum()} zip codes with counts > 500.\")\n",
    "print(f\"There are {(counts_right > 200).sum()} zip codes with counts > 200.\")\n",
    "print(f\"There are {(counts_right > 100).sum()} zip codes with counts > 100.\")\n",
    "print(f\"There are {(counts_right > 50).sum()} zip codes with counts > 50.\")\n",
    "print(f\"There are {(counts_right > 5).sum()} zip codes with counts > 5.\")\n",
    "print(f\"There are {(counts_right < 5).sum()} zip codes with counts < 5.\")"
   ]
  },
  {
   "cell_type": "markdown",
   "id": "010ac864",
   "metadata": {
    "id": "010ac864"
   },
   "source": [
    "## Algorithms"
   ]
  },
  {
   "cell_type": "code",
   "execution_count": 59,
   "id": "a6fcadff",
   "metadata": {
    "id": "a6fcadff"
   },
   "outputs": [],
   "source": [
    "import difflib\n",
    "\n",
    "# Define a function with difflib\n",
    "def calculate_matching_score_difflib(left_row, right_row):\n",
    "    # Concatenate the relevant columns into a single string for each record\n",
    "    left_string = left_row[\"name\"] + left_row[\"address_combined\"]\n",
    "    right_string = right_row[\"name\"] + right_row[\"address_combined\"]\n",
    "    \n",
    "    # Calculate the matching score using the SequenceMatcher class from the difflib module\n",
    "    matcher = difflib.SequenceMatcher(None, left_string.lower(), right_string.lower())\n",
    "    return matcher.ratio()"
   ]
  },
  {
   "cell_type": "code",
   "execution_count": 60,
   "id": "423923dd",
   "metadata": {
    "id": "423923dd"
   },
   "outputs": [
    {
     "name": "stderr",
     "output_type": "stream",
     "text": [
      "D:\\Python\\lib\\site-packages\\fuzzywuzzy\\fuzz.py:11: UserWarning: Using slow pure-python SequenceMatcher. Install python-Levenshtein to remove this warning\n",
      "  warnings.warn('Using slow pure-python SequenceMatcher. Install python-Levenshtein to remove this warning')\n"
     ]
    }
   ],
   "source": [
    "from fuzzywuzzy import fuzz\n",
    "\n",
    "# Define a function with fuzzywuzzy\n",
    "def calculate_matching_score_fuzzywuzzy(left_row, right_row):\n",
    "    name_similarity = fuzz.token_sort_ratio(left_row['name'], right_row['name'])\n",
    "    address_similarity = fuzz.token_sort_ratio(left_row['address_combined'], right_row['address_combined'])\n",
    "    confidence = 0.6 * name_similarity + 0.4 * address_similarity\n",
    "    return confidence"
   ]
  },
  {
   "cell_type": "code",
   "execution_count": 61,
   "id": "dab26f1f",
   "metadata": {
    "id": "dab26f1f"
   },
   "outputs": [],
   "source": [
    "match_list_difflib = []\n",
    "match_list_fuzzywuzzy = []"
   ]
  },
  {
   "cell_type": "markdown",
   "id": "5eee1900",
   "metadata": {
    "id": "5eee1900"
   },
   "source": [
    "## zip codes with counts > 200 (183 zip codes): match within its own group"
   ]
  },
  {
   "cell_type": "code",
   "execution_count": 62,
   "id": "c08ba2e8",
   "metadata": {
    "id": "c08ba2e8"
   },
   "outputs": [],
   "source": [
    "# zip codes in df_left with counts > 200\n",
    "df_left_zip_codes_gt_200 = counts_left[counts_left > 200].index.tolist()"
   ]
  },
  {
   "cell_type": "code",
   "execution_count": 63,
   "id": "6a0135d3",
   "metadata": {
    "id": "6a0135d3"
   },
   "outputs": [],
   "source": [
    "# This code block takes 170 mins to run successfully -> 187m include fuzzywuzzy\n",
    "#match_list = []\n",
    "\n",
    "# Iterate over the zip codes\n",
    "for zip_code in df_left_zip_codes_gt_200:\n",
    "    if zip_code in counts_right.index:\n",
    "        # Filter the rows in df_left and df_right by the zip code\n",
    "        df_left_zip = df_left[df_left[\"zip_code_str\"] == zip_code]\n",
    "        df_right_zip = df_right[df_right[\"zip_code\"] == zip_code]\n",
    "        \n",
    "        # Iterate over each pair of records\n",
    "        for left_index, left_row in df_left_zip.iterrows():\n",
    "            for right_index, right_row in df_right_zip.iterrows():\n",
    "                # Calculate the matching score for this pair of records\n",
    "                matching_score_difflib = calculate_matching_score_difflib(left_row, right_row)\n",
    "                \n",
    "                # use fuzzywuzzy to calculate score\n",
    "                matching_score_fuzzywuzzy = calculate_matching_score_fuzzywuzzy(left_row, right_row)\n",
    "\n",
    "                if matching_score_fuzzywuzzy > 80:\n",
    "                    match_list_fuzzywuzzy.append((left_row['entity_id'], right_row['business_id'], matching_score_fuzzywuzzy/100))\n",
    "\n",
    "                # add matching record to the difflib_list\n",
    "                match_list_difflib.append((left_row['entity_id'], right_row['business_id'], matching_score_difflib))"
   ]
  },
  {
   "cell_type": "code",
   "execution_count": 64,
   "id": "babf1182",
   "metadata": {
    "id": "babf1182",
    "outputId": "710e1140-8ca9-435f-955b-d76024e11075"
   },
   "outputs": [
    {
     "data": {
      "text/plain": [
       "[(119, 51381, 0.49019607843137253),\n",
       " (119, 51382, 0.49523809523809526),\n",
       " (119, 51408, 0.5473684210526316),\n",
       " (119, 51410, 0.5567010309278351),\n",
       " (119, 51444, 0.5504587155963303),\n",
       " (119, 51445, 0.49572649572649574),\n",
       " (119, 51492, 0.4122137404580153),\n",
       " (119, 51513, 0.5333333333333333),\n",
       " (119, 51568, 0.47368421052631576),\n",
       " (119, 51570, 0.5154639175257731),\n",
       " (119, 51595, 0.5348837209302325),\n",
       " (119, 51596, 0.5348837209302325),\n",
       " (119, 51604, 0.46956521739130436),\n",
       " (119, 51610, 0.47368421052631576),\n",
       " (119, 51611, 0.47368421052631576),\n",
       " (119, 51620, 0.43333333333333335),\n",
       " (119, 51622, 0.4444444444444444),\n",
       " (119, 51634, 0.5306122448979592),\n",
       " (119, 51647, 0.5416666666666666),\n",
       " (119, 51663, 0.42990654205607476)]"
      ]
     },
     "execution_count": 64,
     "metadata": {},
     "output_type": "execute_result"
    }
   ],
   "source": [
    "match_list_difflib[:20]"
   ]
  },
  {
   "cell_type": "code",
   "execution_count": 65,
   "id": "408372e4",
   "metadata": {
    "id": "408372e4",
    "outputId": "eb400d75-293d-42e3-8f09-bdbc127098aa"
   },
   "outputs": [
    {
     "data": {
      "text/plain": [
       "[(831, 69884, 0.904),\n",
       " (831, 73186, 0.976),\n",
       " (1809, 64807, 0.8619999999999999),\n",
       " (2401, 64413, 0.8859999999999999),\n",
       " (2826, 65833, 1.0),\n",
       " (4326, 78126, 0.934),\n",
       " (5295, 56172, 0.91),\n",
       " (5841, 71376, 0.976),\n",
       " (6021, 55792, 1.0),\n",
       " (7282, 52610, 1.0),\n",
       " (7282, 52611, 1.0),\n",
       " (7290, 57562, 0.946),\n",
       " (8626, 68891, 1.0),\n",
       " (8626, 68892, 0.9359999999999999),\n",
       " (10131, 79654, 1.0),\n",
       " (10831, 76806, 0.934),\n",
       " (11117, 56318, 0.85),\n",
       " (12072, 53863, 0.904),\n",
       " (12227, 71433, 0.9440000000000001),\n",
       " (13254, 56257, 0.922)]"
      ]
     },
     "execution_count": 65,
     "metadata": {},
     "output_type": "execute_result"
    }
   ],
   "source": [
    "match_list_fuzzywuzzy[:20]"
   ]
  },
  {
   "cell_type": "markdown",
   "id": "c94bbbb6",
   "metadata": {
    "id": "c94bbbb6"
   },
   "source": [
    "## zip codes with counts (100,200]: form one group"
   ]
  },
  {
   "cell_type": "code",
   "execution_count": 66,
   "id": "d18384c7",
   "metadata": {
    "id": "d18384c7"
   },
   "outputs": [],
   "source": [
    "# zip codes in df_left with counts 100-200\n",
    "df_left_zip_codes_100_to_200 = counts_left[(counts_left > 100) & (counts_left <= 200)].index.tolist()"
   ]
  },
  {
   "cell_type": "code",
   "execution_count": 67,
   "id": "4144c856",
   "metadata": {
    "id": "4144c856"
   },
   "outputs": [],
   "source": [
    "# # 11 mins\n",
    "# # Iterate over the zip codes\n",
    "# for zip_code in df_left_zip_codes_100_to_200:\n",
    "#     if zip_code in counts_right.index:\n",
    "#         # Filter the rows in df_left and df_right by the zip code\n",
    "#         df_left_zip = df_left[df_left[\"zip_code_str\"] == zip_code]\n",
    "#         df_right_zip = df_right[df_right[\"zip_code\"] == zip_code]\n",
    "        \n",
    "#         # Iterate over each pair of records\n",
    "#         for left_index, left_row in df_left_zip.iterrows():\n",
    "#             for right_index, right_row in df_right_zip.iterrows():\n",
    "#                 # Calculate the matching score for this pair of records\n",
    "#                 matching_score = calculate_matching_score(left_row, right_row)\n",
    "                \n",
    "#                 # add matching record to the list\n",
    "#                 match_list.append((left_row['entity_id'], right_row['business_id'], matching_score))"
   ]
  },
  {
   "cell_type": "code",
   "execution_count": 68,
   "id": "cd7a2545",
   "metadata": {
    "id": "cd7a2545"
   },
   "outputs": [],
   "source": [
    "# 11 mins -> 13m include fuzzywuzzy\n",
    "# Iterate over the zip codes\n",
    "for zip_code in df_left_zip_codes_100_to_200:\n",
    "    if zip_code in counts_right.index:\n",
    "        # Filter the rows in df_left and df_right by the zip code\n",
    "        df_left_zip = df_left[df_left[\"zip_code_str\"] == zip_code]\n",
    "        df_right_zip = df_right[df_right[\"zip_code\"] == zip_code]\n",
    "        \n",
    "        # Iterate over each pair of records\n",
    "        for left_index, left_row in df_left_zip.iterrows():\n",
    "            for right_index, right_row in df_right_zip.iterrows():\n",
    "                # Calculate the matching score for this pair of records\n",
    "                matching_score_difflib = calculate_matching_score_difflib(left_row, right_row)\n",
    "                \n",
    "                # use fuzzywuzzy to calculate score\n",
    "                matching_score_fuzzywuzzy = calculate_matching_score_fuzzywuzzy(left_row, right_row)\n",
    "\n",
    "                if matching_score_fuzzywuzzy > 80:\n",
    "                    match_list_fuzzywuzzy.append((left_row['entity_id'], right_row['business_id'], matching_score_fuzzywuzzy/100))\n",
    "\n",
    "                # add matching record to the difflib_list\n",
    "                match_list_difflib.append((left_row['entity_id'], right_row['business_id'], matching_score_difflib))"
   ]
  },
  {
   "cell_type": "markdown",
   "id": "f0f598c0",
   "metadata": {
    "id": "f0f598c0"
   },
   "source": [
    "## zip codes with counts (5,100]: form one group"
   ]
  },
  {
   "cell_type": "code",
   "execution_count": 69,
   "id": "020446a4",
   "metadata": {
    "id": "020446a4"
   },
   "outputs": [],
   "source": [
    "# zip codes in df_left with counts 5-100\n",
    "df_left_zip_codes_5_to_100 = counts_left[(counts_left > 5) & (counts_left <= 100)].index.tolist()"
   ]
  },
  {
   "cell_type": "code",
   "execution_count": 70,
   "id": "407660c4",
   "metadata": {
    "id": "407660c4"
   },
   "outputs": [],
   "source": [
    "# # 3 mins\n",
    "# # Iterate over the zip codes\n",
    "# for zip_code in df_left_zip_codes_5_to_100:\n",
    "#     if zip_code in counts_right.index:\n",
    "#         # Filter the rows in df_left and df_right by the zip code\n",
    "#         df_left_zip = df_left[df_left[\"zip_code_str\"] == zip_code]\n",
    "#         df_right_zip = df_right[df_right[\"zip_code\"] == zip_code]\n",
    "        \n",
    "#         # Iterate over each pair of records\n",
    "#         for left_index, left_row in df_left_zip.iterrows():\n",
    "#             for right_index, right_row in df_right_zip.iterrows():\n",
    "#                 # Calculate the matching score for this pair of records\n",
    "#                 matching_score = calculate_matching_score(left_row, right_row)\n",
    "                \n",
    "#                 # add matching record to the list\n",
    "#                 match_list.append((left_row['entity_id'], right_row['business_id'], matching_score))"
   ]
  },
  {
   "cell_type": "code",
   "execution_count": 71,
   "id": "538e21c7",
   "metadata": {
    "id": "538e21c7"
   },
   "outputs": [],
   "source": [
    "# 3 mins -> 3m include fuzzywuzzy\n",
    "# Iterate over the zip codes\n",
    "for zip_code in df_left_zip_codes_5_to_100:\n",
    "    if zip_code in counts_right.index:\n",
    "        # Filter the rows in df_left and df_right by the zip code\n",
    "        df_left_zip = df_left[df_left[\"zip_code_str\"] == zip_code]\n",
    "        df_right_zip = df_right[df_right[\"zip_code\"] == zip_code]\n",
    "        \n",
    "        # Iterate over each pair of records\n",
    "        for left_index, left_row in df_left_zip.iterrows():\n",
    "            for right_index, right_row in df_right_zip.iterrows():\n",
    "                # Calculate the matching score for this pair of records\n",
    "                matching_score_difflib = calculate_matching_score_difflib(left_row, right_row)\n",
    "                \n",
    "                # use fuzzywuzzy to calculate score\n",
    "                matching_score_fuzzywuzzy = calculate_matching_score_fuzzywuzzy(left_row, right_row)\n",
    "\n",
    "                if matching_score_fuzzywuzzy > 80:\n",
    "                    match_list_fuzzywuzzy.append((left_row['entity_id'], right_row['business_id'], matching_score_fuzzywuzzy/100))\n",
    "\n",
    "                # add matching record to the difflib_list\n",
    "                match_list_difflib.append((left_row['entity_id'], right_row['business_id'], matching_score_difflib))"
   ]
  },
  {
   "cell_type": "markdown",
   "id": "4ad207ac",
   "metadata": {
    "id": "4ad207ac"
   },
   "source": [
    "## zip codes with counts (0,5]: form one group"
   ]
  },
  {
   "cell_type": "code",
   "execution_count": 72,
   "id": "a2493b4f",
   "metadata": {
    "id": "a2493b4f"
   },
   "outputs": [],
   "source": [
    "# zip codes in df_left with counts <=5\n",
    "df_left_zip_codes_lt_5 = counts_left[counts_left <= 5].index.tolist()"
   ]
  },
  {
   "cell_type": "code",
   "execution_count": 73,
   "id": "d047b0c7",
   "metadata": {
    "id": "d047b0c7"
   },
   "outputs": [],
   "source": [
    "# # Iterate over the zip codes\n",
    "# for zip_code in df_left_zip_codes_lt_5:\n",
    "#     if zip_code in counts_right.index:\n",
    "#         # Filter the rows in df_left and df_right by the zip code\n",
    "#         df_left_zip = df_left[df_left[\"zip_code_str\"] == zip_code]\n",
    "#         df_right_zip = df_right[df_right[\"zip_code\"] == zip_code]\n",
    "        \n",
    "#         # Iterate over each pair of records\n",
    "#         for left_index, left_row in df_left_zip.iterrows():\n",
    "#             for right_index, right_row in df_right_zip.iterrows():\n",
    "#                 # Calculate the matching score for this pair of records\n",
    "#                 matching_score = calculate_matching_score(left_row, right_row)\n",
    "                \n",
    "#                 # add matching record to the list\n",
    "#                 match_list.append((left_row['entity_id'], right_row['business_id'], matching_score))"
   ]
  },
  {
   "cell_type": "code",
   "execution_count": 74,
   "id": "3ca62f69",
   "metadata": {
    "id": "3ca62f69"
   },
   "outputs": [],
   "source": [
    "# Iterate over the zip codes -> 1s include fuzzywuzzy\n",
    "for zip_code in df_left_zip_codes_lt_5:\n",
    "    if zip_code in counts_right.index:\n",
    "        # Filter the rows in df_left and df_right by the zip code\n",
    "        df_left_zip = df_left[df_left[\"zip_code_str\"] == zip_code]\n",
    "        df_right_zip = df_right[df_right[\"zip_code\"] == zip_code]\n",
    "        \n",
    "        # Iterate over each pair of records\n",
    "        for left_index, left_row in df_left_zip.iterrows():\n",
    "            for right_index, right_row in df_right_zip.iterrows():\n",
    "                # Calculate the matching score for this pair of records\n",
    "                matching_score_difflib = calculate_matching_score_difflib(left_row, right_row)\n",
    "                \n",
    "                # use fuzzywuzzy to calculate score\n",
    "                matching_score_fuzzywuzzy = calculate_matching_score_fuzzywuzzy(left_row, right_row)\n",
    "\n",
    "                if matching_score_fuzzywuzzy > 80:\n",
    "                    match_list_fuzzywuzzy.append((left_row['entity_id'], right_row['business_id'], matching_score_fuzzywuzzy/100))\n",
    "\n",
    "                # add matching record to the difflib_list\n",
    "                match_list_difflib.append((left_row['entity_id'], right_row['business_id'], matching_score_difflib))"
   ]
  },
  {
   "cell_type": "markdown",
   "id": "a3926556",
   "metadata": {
    "id": "a3926556"
   },
   "source": [
    "# Examine matching score"
   ]
  },
  {
   "cell_type": "markdown",
   "id": "5a476b93",
   "metadata": {
    "id": "5a476b93"
   },
   "source": [
    "## SequenceMatcher from difflib"
   ]
  },
  {
   "cell_type": "code",
   "execution_count": 75,
   "id": "aa23ed69",
   "metadata": {
    "id": "aa23ed69"
   },
   "outputs": [],
   "source": [
    "# sort list in descending order\n",
    "match_list_difflib.sort(key=lambda x: x[2], reverse=True)"
   ]
  },
  {
   "cell_type": "code",
   "execution_count": 76,
   "id": "4e15ca15",
   "metadata": {
    "id": "4e15ca15",
    "outputId": "8adc12e7-d3e7-43ba-d051-80b75707e2be"
   },
   "outputs": [
    {
     "data": {
      "text/plain": [
       "[(2826, 65833, 1.0),\n",
       " (6021, 55792, 1.0),\n",
       " (7282, 52610, 1.0),\n",
       " (7282, 52611, 1.0),\n",
       " (8626, 68891, 1.0),\n",
       " (10131, 79654, 1.0),\n",
       " (14727, 59239, 1.0),\n",
       " (14727, 60102, 1.0),\n",
       " (27928, 67132, 1.0),\n",
       " (27928, 67133, 1.0),\n",
       " (38023, 61664, 1.0),\n",
       " (38023, 61665, 1.0),\n",
       " (51034, 77495, 1.0),\n",
       " (66500, 55178, 1.0),\n",
       " (70242, 60990, 1.0),\n",
       " (72850, 51410, 1.0),\n",
       " (73468, 51620, 1.0),\n",
       " (88239, 76679, 1.0),\n",
       " (4663, 63976, 1.0),\n",
       " (6554, 78647, 1.0)]"
      ]
     },
     "execution_count": 76,
     "metadata": {},
     "output_type": "execute_result"
    }
   ],
   "source": [
    "# examine match_list top 20\n",
    "match_list_difflib[:20]"
   ]
  },
  {
   "cell_type": "code",
   "execution_count": 77,
   "id": "8194ce7b",
   "metadata": {
    "id": "8194ce7b",
    "outputId": "5dccb697-8de8-44ad-8008-5e9278d8218c"
   },
   "outputs": [
    {
     "data": {
      "image/png": "[encoded data removed]",
      "text/plain": [
       "<Figure size 640x480 with 1 Axes>"
      ]
     },
     "metadata": {},
     "output_type": "display_data"
    }
   ],
   "source": [
    "# distribution of matching_score\n",
    "import matplotlib.pyplot as plt\n",
    "\n",
    "# Extract matching scores from the match_list\n",
    "scores = [score for _, _, score in match_list_difflib]\n",
    "\n",
    "# Plot a histogram of the scores\n",
    "plt.hist(scores, bins=30)\n",
    "plt.xlabel('Matching Score_difflib')\n",
    "plt.ylabel('Frequency')\n",
    "plt.title('Distribution of Matching Scores (difflib)')\n",
    "plt.show()"
   ]
  },
  {
   "cell_type": "code",
   "execution_count": 78,
   "id": "38149971",
   "metadata": {
    "id": "38149971",
    "outputId": "bfd038d3-9a62-4107-c7ea-aeaf77e77be3"
   },
   "outputs": [
    {
     "data": {
      "image/png": "[encoded data removed]",
      "text/plain": [
       "<Figure size 640x480 with 1 Axes>"
      ]
     },
     "metadata": {},
     "output_type": "display_data"
    }
   ],
   "source": [
    "# distribution of matching_score > 0.8\n",
    "import matplotlib.pyplot as plt\n",
    "\n",
    "# Extract matching scores from the match_list\n",
    "scores = [score for _, _, score in match_list_difflib if score >= 0.8]\n",
    "\n",
    "# Plot a histogram of the scores\n",
    "plt.hist(scores, bins=30)\n",
    "plt.xlabel('Matching Score_difflib')\n",
    "plt.ylabel('Frequency')\n",
    "plt.title('Distribution of Matching Scores (difflib)')\n",
    "plt.show()"
   ]
  },
  {
   "cell_type": "code",
   "execution_count": 79,
   "id": "0ab0bb9c",
   "metadata": {
    "id": "0ab0bb9c",
    "outputId": "e22a226d-320a-4c0b-92a3-49c36b89ebdb"
   },
   "outputs": [
    {
     "name": "stdout",
     "output_type": "stream",
     "text": [
      "Number of perfect matches: 517\n"
     ]
    }
   ],
   "source": [
    "# number of perfect match based on current algorithm is 517\n",
    "num_perfect_matches_difflib = 0\n",
    "\n",
    "for match in match_list_difflib:\n",
    "    if match[2] == 1:\n",
    "        num_perfect_matches_difflib += 1\n",
    "        \n",
    "print(\"Number of perfect matches:\", num_perfect_matches_difflib)"
   ]
  },
  {
   "cell_type": "markdown",
   "id": "03f60382",
   "metadata": {
    "id": "03f60382"
   },
   "source": [
    "The number of perfect match based on current algorithm is 517. The number of perfect match based on previous inner-join algorithm is also 517, partly proving that this algorithm is effective and meaningful."
   ]
  },
  {
   "cell_type": "markdown",
   "id": "670623a8",
   "metadata": {
    "id": "670623a8"
   },
   "source": [
    "## fuzzywuzzy"
   ]
  },
  {
   "cell_type": "code",
   "execution_count": 80,
   "id": "ec9386af",
   "metadata": {
    "id": "ec9386af"
   },
   "outputs": [],
   "source": [
    "# sort list in descending order\n",
    "match_list_fuzzywuzzy.sort(key=lambda x: x[2], reverse=True)"
   ]
  },
  {
   "cell_type": "code",
   "execution_count": 81,
   "id": "32214065",
   "metadata": {
    "id": "32214065",
    "outputId": "1828ebfb-072c-4be3-9cee-bcb98fe092e2"
   },
   "outputs": [
    {
     "data": {
      "text/plain": [
       "[(2826, 65833, 1.0),\n",
       " (6021, 55792, 1.0),\n",
       " (7282, 52610, 1.0),\n",
       " (7282, 52611, 1.0),\n",
       " (8626, 68891, 1.0),\n",
       " (10131, 79654, 1.0),\n",
       " (14727, 59239, 1.0),\n",
       " (14727, 60102, 1.0),\n",
       " (27928, 67132, 1.0),\n",
       " (27928, 67133, 1.0),\n",
       " (38023, 61664, 1.0),\n",
       " (38023, 61665, 1.0),\n",
       " (51034, 77495, 1.0),\n",
       " (66500, 55178, 1.0),\n",
       " (70242, 60990, 1.0),\n",
       " (72850, 51410, 1.0),\n",
       " (73468, 51620, 1.0),\n",
       " (88239, 76679, 1.0),\n",
       " (4663, 63976, 1.0),\n",
       " (6554, 78647, 1.0)]"
      ]
     },
     "execution_count": 81,
     "metadata": {},
     "output_type": "execute_result"
    }
   ],
   "source": [
    "# examine match_list top 20\n",
    "match_list_fuzzywuzzy[:20]"
   ]
  },
  {
   "cell_type": "code",
   "execution_count": 82,
   "id": "881a51c5",
   "metadata": {
    "id": "881a51c5",
    "outputId": "8efe5915-374d-448b-da54-300d8545e5e3"
   },
   "outputs": [
    {
     "data": {
      "image/png": "[encoded data removed]",
      "text/plain": [
       "<Figure size 640x480 with 1 Axes>"
      ]
     },
     "metadata": {},
     "output_type": "display_data"
    }
   ],
   "source": [
    "# distribution of matching_score\n",
    "import matplotlib.pyplot as plt\n",
    "\n",
    "# Extract matching scores from the match_list\n",
    "scores = [score for _, _, score in match_list_fuzzywuzzy]\n",
    "\n",
    "# Plot a histogram of the scores\n",
    "plt.hist(scores, bins=30)\n",
    "plt.xlabel('Matching Score_fuzzywuzzy')\n",
    "plt.ylabel('Frequency')\n",
    "plt.title('Distribution of Matching Scores (fuzzywuzzy)')\n",
    "plt.show()"
   ]
  },
  {
   "cell_type": "code",
   "execution_count": 83,
   "id": "b8de5e73",
   "metadata": {
    "id": "b8de5e73",
    "outputId": "b80837a0-0ec0-4a98-af26-b76f6af70b2c"
   },
   "outputs": [
    {
     "name": "stdout",
     "output_type": "stream",
     "text": [
      "Number of perfect matches: 526\n"
     ]
    }
   ],
   "source": [
    "# number of perfect match based on current algorithm is 526\n",
    "num_perfect_matches_fuzzywuzzy = 0\n",
    "\n",
    "for match in match_list_fuzzywuzzy:\n",
    "    if match[2] == 1:\n",
    "        num_perfect_matches_fuzzywuzzy += 1\n",
    "        \n",
    "print(\"Number of perfect matches:\", num_perfect_matches_fuzzywuzzy)"
   ]
  },
  {
   "cell_type": "markdown",
   "id": "c0e2d3af",
   "metadata": {
    "id": "c0e2d3af"
   },
   "source": [
    "## Examine the difference in results from difflib and fuzzywuzzy"
   ]
  },
  {
   "cell_type": "code",
   "execution_count": 84,
   "id": "1c7cd3ef",
   "metadata": {
    "id": "1c7cd3ef"
   },
   "outputs": [],
   "source": [
    "perfect_matches_difflib = []\n",
    "\n",
    "for match in match_list_difflib:\n",
    "    if match[2] == 1:\n",
    "        perfect_matches_difflib.append(match)"
   ]
  },
  {
   "cell_type": "code",
   "execution_count": 85,
   "id": "2d860cc4",
   "metadata": {
    "id": "2d860cc4"
   },
   "outputs": [],
   "source": [
    "perfect_matches_fuzzywuzzy = []\n",
    "\n",
    "for match in match_list_fuzzywuzzy:\n",
    "    if match[2] == 1:\n",
    "        perfect_matches_fuzzywuzzy.append(match)"
   ]
  },
  {
   "cell_type": "code",
   "execution_count": 86,
   "id": "e1645fa8",
   "metadata": {
    "id": "e1645fa8"
   },
   "outputs": [],
   "source": [
    "perfect_matches_fuzzywuzzy_only = [match for match in perfect_matches_fuzzywuzzy if match not in perfect_matches_difflib]"
   ]
  },
  {
   "cell_type": "code",
   "execution_count": 87,
   "id": "6c5444f7",
   "metadata": {
    "id": "6c5444f7",
    "outputId": "a2723f45-ecef-469e-fde8-1c50d7d9f18a"
   },
   "outputs": [
    {
     "data": {
      "text/plain": [
       "9"
      ]
     },
     "execution_count": 87,
     "metadata": {},
     "output_type": "execute_result"
    }
   ],
   "source": [
    "# fuzzywuzzy has 9 perfect match records more than difflib\n",
    "len(perfect_matches_fuzzywuzzy_only)"
   ]
  },
  {
   "cell_type": "code",
   "execution_count": 88,
   "id": "e6c2f2ee",
   "metadata": {
    "id": "e6c2f2ee",
    "outputId": "2f50c963-576b-4bb7-ab58-6edf3d871cf9"
   },
   "outputs": [
    {
     "data": {
      "text/plain": [
       "[(14930, 28497, 1.0),\n",
       " (12023, 22650, 1.0),\n",
       " (43869, 80868, 1.0),\n",
       " (71144, 73025, 1.0),\n",
       " (49067, 60264, 1.0),\n",
       " (9197, 80636, 1.0),\n",
       " (40504, 18805, 1.0),\n",
       " (7822, 16491, 1.0),\n",
       " (57485, 27255, 1.0)]"
      ]
     },
     "execution_count": 88,
     "metadata": {},
     "output_type": "execute_result"
    }
   ],
   "source": [
    "# the perfect match records that only exist in fuzzywuzzy result\n",
    "perfect_matches_fuzzywuzzy_only"
   ]
  },
  {
   "cell_type": "markdown",
   "id": "7dbd4c2f",
   "metadata": {
    "id": "7dbd4c2f"
   },
   "source": [
    "### Examine (14930, 28497, 1.0)\n",
    "* two records looks the same, so they are perfect match"
   ]
  },
  {
   "cell_type": "code",
   "execution_count": 89,
   "id": "7677922e",
   "metadata": {
    "id": "7677922e",
    "outputId": "41c2ed41-0db6-4f90-9601-7ed92da9b1ff"
   },
   "outputs": [
    {
     "data": {
      "text/html": [
       "<div>\n",
       "<style scoped>\n",
       "    .dataframe tbody tr th:only-of-type {\n",
       "        vertical-align: middle;\n",
       "    }\n",
       "\n",
       "    .dataframe tbody tr th {\n",
       "        vertical-align: top;\n",
       "    }\n",
       "\n",
       "    .dataframe thead th {\n",
       "        text-align: right;\n",
       "    }\n",
       "</style>\n",
       "<table border=\"1\" class=\"dataframe\">\n",
       "  <thead>\n",
       "    <tr style=\"text-align: right;\">\n",
       "      <th></th>\n",
       "      <th>entity_id</th>\n",
       "      <th>name</th>\n",
       "      <th>address</th>\n",
       "      <th>city</th>\n",
       "      <th>state</th>\n",
       "      <th>zip_code_str</th>\n",
       "      <th>address_combined</th>\n",
       "      <th>address_combined_with_zip</th>\n",
       "    </tr>\n",
       "  </thead>\n",
       "  <tbody>\n",
       "    <tr>\n",
       "      <th>14929</th>\n",
       "      <td>14930</td>\n",
       "      <td>windsor jewelry</td>\n",
       "      <td>16 n meridian st</td>\n",
       "      <td>indianapolis</td>\n",
       "      <td>in</td>\n",
       "      <td>46204</td>\n",
       "      <td>16 n meridian st indianapolis in</td>\n",
       "      <td>16 n meridian st indianapolis in 46204</td>\n",
       "    </tr>\n",
       "  </tbody>\n",
       "</table>\n",
       "</div>"
      ],
      "text/plain": [
       "       entity_id             name           address          city state  \\\n",
       "14929      14930  windsor jewelry  16 n meridian st  indianapolis    in   \n",
       "\n",
       "      zip_code_str                  address_combined  \\\n",
       "14929        46204  16 n meridian st indianapolis in   \n",
       "\n",
       "                    address_combined_with_zip  \n",
       "14929  16 n meridian st indianapolis in 46204  "
      ]
     },
     "execution_count": 89,
     "metadata": {},
     "output_type": "execute_result"
    }
   ],
   "source": [
    "df_left[df_left[\"entity_id\"] == 14930]"
   ]
  },
  {
   "cell_type": "code",
   "execution_count": 90,
   "id": "4de0e3ef",
   "metadata": {
    "id": "4de0e3ef",
    "outputId": "fce8fe3f-ab7a-47bf-f2ca-17544555e8de"
   },
   "outputs": [
    {
     "data": {
      "text/html": [
       "<div>\n",
       "<style scoped>\n",
       "    .dataframe tbody tr th:only-of-type {\n",
       "        vertical-align: middle;\n",
       "    }\n",
       "\n",
       "    .dataframe tbody tr th {\n",
       "        vertical-align: top;\n",
       "    }\n",
       "\n",
       "    .dataframe thead th {\n",
       "        text-align: right;\n",
       "    }\n",
       "</style>\n",
       "<table border=\"1\" class=\"dataframe\">\n",
       "  <thead>\n",
       "    <tr style=\"text-align: right;\">\n",
       "      <th></th>\n",
       "      <th>business_id</th>\n",
       "      <th>name</th>\n",
       "      <th>address</th>\n",
       "      <th>city</th>\n",
       "      <th>state</th>\n",
       "      <th>zip_code</th>\n",
       "      <th>address_combined</th>\n",
       "      <th>address_combined_with_zip</th>\n",
       "    </tr>\n",
       "  </thead>\n",
       "  <tbody>\n",
       "    <tr>\n",
       "      <th>28496</th>\n",
       "      <td>28497</td>\n",
       "      <td>windsor  jewelry</td>\n",
       "      <td>16 n meridian st</td>\n",
       "      <td>indianapolis</td>\n",
       "      <td>in</td>\n",
       "      <td>46204</td>\n",
       "      <td>16 n meridian st indianapolis in</td>\n",
       "      <td>16 n meridian st indianapolis in 46204</td>\n",
       "    </tr>\n",
       "  </tbody>\n",
       "</table>\n",
       "</div>"
      ],
      "text/plain": [
       "       business_id              name           address          city state  \\\n",
       "28496        28497  windsor  jewelry  16 n meridian st  indianapolis    in   \n",
       "\n",
       "      zip_code                  address_combined  \\\n",
       "28496    46204  16 n meridian st indianapolis in   \n",
       "\n",
       "                    address_combined_with_zip  \n",
       "28496  16 n meridian st indianapolis in 46204  "
      ]
     },
     "execution_count": 90,
     "metadata": {},
     "output_type": "execute_result"
    }
   ],
   "source": [
    "df_right[df_right[\"business_id\"] == 28497]"
   ]
  },
  {
   "cell_type": "markdown",
   "id": "e71d7ff1",
   "metadata": {
    "id": "e71d7ff1"
   },
   "source": [
    "### Examine (12023, 22650, 1.0)\n",
    "* two records also looks the same, so they are perfect match"
   ]
  },
  {
   "cell_type": "code",
   "execution_count": 91,
   "id": "dcddc0c5",
   "metadata": {
    "id": "dcddc0c5",
    "outputId": "d96e088a-b8fd-472d-f334-73d4c7c04380"
   },
   "outputs": [
    {
     "data": {
      "text/html": [
       "<div>\n",
       "<style scoped>\n",
       "    .dataframe tbody tr th:only-of-type {\n",
       "        vertical-align: middle;\n",
       "    }\n",
       "\n",
       "    .dataframe tbody tr th {\n",
       "        vertical-align: top;\n",
       "    }\n",
       "\n",
       "    .dataframe thead th {\n",
       "        text-align: right;\n",
       "    }\n",
       "</style>\n",
       "<table border=\"1\" class=\"dataframe\">\n",
       "  <thead>\n",
       "    <tr style=\"text-align: right;\">\n",
       "      <th></th>\n",
       "      <th>entity_id</th>\n",
       "      <th>name</th>\n",
       "      <th>address</th>\n",
       "      <th>city</th>\n",
       "      <th>state</th>\n",
       "      <th>zip_code_str</th>\n",
       "      <th>address_combined</th>\n",
       "      <th>address_combined_with_zip</th>\n",
       "    </tr>\n",
       "  </thead>\n",
       "  <tbody>\n",
       "    <tr>\n",
       "      <th>12022</th>\n",
       "      <td>12023</td>\n",
       "      <td>first nails</td>\n",
       "      <td>14418  n dale mabry hwy</td>\n",
       "      <td>tampa</td>\n",
       "      <td>fl</td>\n",
       "      <td>33618</td>\n",
       "      <td>14418  n dale mabry hwy tampa fl</td>\n",
       "      <td>14418  n dale mabry hwy tampa fl 33618</td>\n",
       "    </tr>\n",
       "  </tbody>\n",
       "</table>\n",
       "</div>"
      ],
      "text/plain": [
       "       entity_id         name                  address   city state  \\\n",
       "12022      12023  first nails  14418  n dale mabry hwy  tampa    fl   \n",
       "\n",
       "      zip_code_str                  address_combined  \\\n",
       "12022        33618  14418  n dale mabry hwy tampa fl   \n",
       "\n",
       "                    address_combined_with_zip  \n",
       "12022  14418  n dale mabry hwy tampa fl 33618  "
      ]
     },
     "execution_count": 91,
     "metadata": {},
     "output_type": "execute_result"
    }
   ],
   "source": [
    "df_left[df_left[\"entity_id\"] == 12023]"
   ]
  },
  {
   "cell_type": "code",
   "execution_count": 92,
   "id": "943590e3",
   "metadata": {
    "id": "943590e3",
    "outputId": "05498f74-11a6-46f4-ffcc-423e87c18413"
   },
   "outputs": [
    {
     "data": {
      "text/html": [
       "<div>\n",
       "<style scoped>\n",
       "    .dataframe tbody tr th:only-of-type {\n",
       "        vertical-align: middle;\n",
       "    }\n",
       "\n",
       "    .dataframe tbody tr th {\n",
       "        vertical-align: top;\n",
       "    }\n",
       "\n",
       "    .dataframe thead th {\n",
       "        text-align: right;\n",
       "    }\n",
       "</style>\n",
       "<table border=\"1\" class=\"dataframe\">\n",
       "  <thead>\n",
       "    <tr style=\"text-align: right;\">\n",
       "      <th></th>\n",
       "      <th>business_id</th>\n",
       "      <th>name</th>\n",
       "      <th>address</th>\n",
       "      <th>city</th>\n",
       "      <th>state</th>\n",
       "      <th>zip_code</th>\n",
       "      <th>address_combined</th>\n",
       "      <th>address_combined_with_zip</th>\n",
       "    </tr>\n",
       "  </thead>\n",
       "  <tbody>\n",
       "    <tr>\n",
       "      <th>22649</th>\n",
       "      <td>22650</td>\n",
       "      <td>first nails</td>\n",
       "      <td>14418 n dale mabry hwy</td>\n",
       "      <td>tampa</td>\n",
       "      <td>fl</td>\n",
       "      <td>33618</td>\n",
       "      <td>14418 n dale mabry hwy tampa fl</td>\n",
       "      <td>14418 n dale mabry hwy tampa fl 33618</td>\n",
       "    </tr>\n",
       "  </tbody>\n",
       "</table>\n",
       "</div>"
      ],
      "text/plain": [
       "       business_id         name                 address   city state zip_code  \\\n",
       "22649        22650  first nails  14418 n dale mabry hwy  tampa    fl    33618   \n",
       "\n",
       "                      address_combined              address_combined_with_zip  \n",
       "22649  14418 n dale mabry hwy tampa fl  14418 n dale mabry hwy tampa fl 33618  "
      ]
     },
     "execution_count": 92,
     "metadata": {},
     "output_type": "execute_result"
    }
   ],
   "source": [
    "df_right[df_right[\"business_id\"] == 22650]"
   ]
  },
  {
   "cell_type": "markdown",
   "id": "0c1b144b",
   "metadata": {
    "id": "0c1b144b"
   },
   "source": [
    "### The potential reason for this\n",
    "* In FuzzyWuzzy, strings are first tokenized into words or sequences of words, and then matched based on the similarity between the token sets. This is well-suited to identify data that have minor differences, such as missing digits or transposed digits. SequenceMatcher focuses on finding the longest common subsequence between two sequences. It compute the matching score based on the number of matching elements and their position in the sequence."
   ]
  },
  {
   "cell_type": "markdown",
   "id": "46ba3fc2",
   "metadata": {
    "id": "46ba3fc2"
   },
   "source": [
    "# Output results to csv"
   ]
  },
  {
   "cell_type": "code",
   "execution_count": 93,
   "id": "1cca2458",
   "metadata": {
    "id": "1cca2458",
    "outputId": "f392f536-64d5-46f0-a82b-8a3660efff69"
   },
   "outputs": [
    {
     "data": {
      "text/plain": [
       "34707722"
      ]
     },
     "execution_count": 93,
     "metadata": {},
     "output_type": "execute_result"
    }
   ],
   "source": [
    "len(match_list_difflib)"
   ]
  },
  {
   "cell_type": "code",
   "execution_count": 94,
   "id": "e1d37050",
   "metadata": {
    "id": "e1d37050"
   },
   "outputs": [],
   "source": [
    "# filtering the list of tuples with matching_score > 0.8\n",
    "match_list_difflib_gt_80pct = [(match[0], match[1], round(match[2], 2)) for match in match_list_difflib if match[2] > 0.8]\n",
    "match_list_difflib_gt_80pct.sort(key=lambda x: x[2], reverse=True)"
   ]
  },
  {
   "cell_type": "code",
   "execution_count": 95,
   "id": "b891d3be",
   "metadata": {
    "id": "b891d3be",
    "outputId": "8140524b-f756-4ad6-88ce-bf668d8a72be"
   },
   "outputs": [
    {
     "data": {
      "text/plain": [
       "19725"
      ]
     },
     "execution_count": 95,
     "metadata": {},
     "output_type": "execute_result"
    }
   ],
   "source": [
    "len(match_list_difflib_gt_80pct)"
   ]
  },
  {
   "cell_type": "code",
   "execution_count": 96,
   "id": "b139d215",
   "metadata": {
    "id": "b139d215"
   },
   "outputs": [],
   "source": [
    "# export filtered list to a csv file\n",
    "import csv\n",
    "\n",
    "with open('matching score_difflib.csv', mode='w', newline='') as file:\n",
    "    writer = csv.writer(file)\n",
    "    writer.writerow(['entity_id', 'business_id', 'matching_score'])  # writing header row\n",
    "    writer.writerows(match_list_difflib_gt_80pct)  # writing filtered tuples"
   ]
  },
  {
   "cell_type": "code",
   "execution_count": 97,
   "id": "e5ae8a26",
   "metadata": {
    "id": "e5ae8a26",
    "outputId": "90e3d16c-da1b-450f-fca9-4f6119461092"
   },
   "outputs": [
    {
     "data": {
      "text/plain": [
       "8311"
      ]
     },
     "execution_count": 97,
     "metadata": {},
     "output_type": "execute_result"
    }
   ],
   "source": [
    "len(match_list_fuzzywuzzy)"
   ]
  },
  {
   "cell_type": "code",
   "execution_count": 98,
   "id": "dff36119",
   "metadata": {
    "id": "dff36119"
   },
   "outputs": [],
   "source": [
    "# export filtered list to a csv file\n",
    "import csv\n",
    "\n",
    "with open('matching score_fuzzywuzzy.csv', mode='w', newline='') as file:\n",
    "    writer = csv.writer(file)\n",
    "    writer.writerow(['entity_id', 'business_id', 'matching_score'])  # writing header row\n",
    "    writer.writerows(match_list_fuzzywuzzy)  # writing filtered tuples"
   ]
  },
  {
   "cell_type": "markdown",
   "id": "af36702f",
   "metadata": {
    "id": "af36702f"
   },
   "source": [
    "# all codes above take 3 hours to run"
   ]
  }
 ],
 "metadata": {
  "colab": {
   "provenance": []
  },
  "kernelspec": {
   "display_name": "Python 3 (ipykernel)",
   "language": "python",
   "name": "python3"
  },
  "language_info": {
   "codemirror_mode": {
    "name": "ipython",
    "version": 3
   },
   "file_extension": ".py",
   "mimetype": "text/x-python",
   "name": "python",
   "nbconvert_exporter": "python",
   "pygments_lexer": "ipython3",
   "version": "3.9.13"
  }
 },
 "nbformat": 4,
 "nbformat_minor": 5
}
